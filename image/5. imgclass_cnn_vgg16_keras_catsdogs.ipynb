{
 "cells": [
  {
   "cell_type": "code",
   "execution_count": 63,
   "metadata": {
    "execution": {
     "iopub.execute_input": "2022-06-14T11:58:29.995990Z",
     "iopub.status.busy": "2022-06-14T11:58:29.995608Z",
     "iopub.status.idle": "2022-06-14T11:58:30.008909Z",
     "shell.execute_reply": "2022-06-14T11:58:30.008084Z",
     "shell.execute_reply.started": "2022-06-14T11:58:29.995960Z"
    }
   },
   "outputs": [],
   "source": [
    "import tensorflow as tf\n",
    "from tensorflow import keras\n",
    "from tensorflow.keras.models import Sequential\n",
    "from tensorflow.keras.layers import Dense, Conv2D, MaxPool2D, Flatten, BatchNormalization, Activation\n",
    "from tensorflow.keras.optimizers import Adam\n",
    "from tensorflow.keras.metrics import Accuracy, binary_crossentropy\n",
    "from sklearn.metrics import confusion_matrix, plot_confusion_matrix, ConfusionMatrixDisplay, accuracy_score\n",
    "from tensorflow.keras import regularizers\n",
    "from tensorflow.keras.metrics import categorical_crossentropy, sparse_categorical_crossentropy, binary_crossentropy\n",
    "from tensorflow.keras.preprocessing.image import ImageDataGenerator\n",
    "import numpy as np\n",
    "import matplotlib.pyplot as plt\n",
    "%matplotlib inline"
   ]
  },
  {
   "cell_type": "code",
   "execution_count": 2,
   "metadata": {},
   "outputs": [],
   "source": [
    "import os"
   ]
  },
  {
   "cell_type": "code",
   "execution_count": 3,
   "metadata": {},
   "outputs": [
    {
     "data": {
      "text/plain": [
       "['cats', 'dogs']"
      ]
     },
     "execution_count": 3,
     "metadata": {},
     "output_type": "execute_result"
    }
   ],
   "source": [
    "os.listdir('/home/sandeep/Development/Datasets/Nature/less_cats_and_dogs/valid/')"
   ]
  },
  {
   "cell_type": "code",
   "execution_count": 156,
   "metadata": {},
   "outputs": [],
   "source": [
    "train_path = '/home/sandeep/Development/Datasets/Nature/less_cats_and_dogs/train/'\n",
    "valid_path = '/home/sandeep/Development/Datasets/Nature/less_cats_and_dogs/valid/'\n",
    "test_path = '/home/sandeep/Development/Datasets/Nature/less_cats_and_dogs/test/'"
   ]
  },
  {
   "cell_type": "code",
   "execution_count": 3,
   "metadata": {
    "execution": {
     "iopub.execute_input": "2022-06-14T11:13:33.522821Z",
     "iopub.status.busy": "2022-06-14T11:13:33.521160Z",
     "iopub.status.idle": "2022-06-14T11:13:33.841935Z",
     "shell.execute_reply": "2022-06-14T11:13:33.841059Z",
     "shell.execute_reply.started": "2022-06-14T11:13:33.522769Z"
    }
   },
   "outputs": [],
   "source": [
    "train_batches = ImageDataGenerator().flow_from_directory(train_path, target_size=(224,224), \n",
    "                                                         classes=['cats', 'dogs'], batch_size=10)\n",
    "valid_batches = ImageDataGenerator().flow_from_directory(valid_path, target_size=(224,224), \n",
    "                                                         classes=['cats', 'dogs'], batch_size=10)\n",
    "test_batches = ImageDataGenerator().flow_from_directory(test_path, target_size=(224,224), \n",
    "                                                         classes=['cats', 'dogs'], batch_size=10)"
   ]
  },
  {
   "cell_type": "code",
   "execution_count": 4,
   "metadata": {
    "execution": {
     "iopub.execute_input": "2022-06-14T11:13:33.845441Z",
     "iopub.status.busy": "2022-06-14T11:13:33.845163Z",
     "iopub.status.idle": "2022-06-14T11:13:33.856864Z",
     "shell.execute_reply": "2022-06-14T11:13:33.855874Z",
     "shell.execute_reply.started": "2022-06-14T11:13:33.845417Z"
    }
   },
   "outputs": [],
   "source": [
    "# Plot images with labels\n",
    "\n",
    "def plots(ims, figsize=(12,6), rows=1, interp=False, titles=None):\n",
    "    if type(ims[0]) is np.ndarray:\n",
    "        ims=np.array(ims).astype(np.uint8)\n",
    "        if (ims.shape[-1]!=3):\n",
    "            ims=ims.transpose((0,2,3,1))\n",
    "        f=plt.figure(figsize=figsize)\n",
    "        cols=len(ims)//rows if len(ims)%2==0 else len(ims)//rows +1\n",
    "        for i in range(len(ims)):\n",
    "            sp=f.add_subplot(rows,cols,i+1)\n",
    "            sp.axis('Off')\n",
    "            if titles is not None:\n",
    "                sp.set_title(titles[i], fontsize=16)\n",
    "            plt.imshow(ims[i], interpolation=None if interp else 'none')"
   ]
  },
  {
   "cell_type": "code",
   "execution_count": 5,
   "metadata": {
    "execution": {
     "iopub.execute_input": "2022-06-14T11:13:33.858866Z",
     "iopub.status.busy": "2022-06-14T11:13:33.858423Z",
     "iopub.status.idle": "2022-06-14T11:13:33.941067Z",
     "shell.execute_reply": "2022-06-14T11:13:33.940272Z",
     "shell.execute_reply.started": "2022-06-14T11:13:33.858830Z"
    }
   },
   "outputs": [],
   "source": [
    "imgs, labels = next(train_batches)"
   ]
  },
  {
   "cell_type": "code",
   "execution_count": 6,
   "metadata": {
    "execution": {
     "iopub.execute_input": "2022-06-14T11:13:33.942988Z",
     "iopub.status.busy": "2022-06-14T11:13:33.942619Z",
     "iopub.status.idle": "2022-06-14T11:13:34.459806Z",
     "shell.execute_reply": "2022-06-14T11:13:34.458989Z",
     "shell.execute_reply.started": "2022-06-14T11:13:33.942953Z"
    }
   },
   "outputs": [],
   "source": [
    "plots(imgs, titles=labels)"
   ]
  },
  {
   "cell_type": "code",
   "execution_count": 7,
   "metadata": {
    "execution": {
     "iopub.execute_input": "2022-06-14T11:13:34.461894Z",
     "iopub.status.busy": "2022-06-14T11:13:34.461365Z",
     "iopub.status.idle": "2022-06-14T11:13:37.300941Z",
     "shell.execute_reply": "2022-06-14T11:13:37.299349Z",
     "shell.execute_reply.started": "2022-06-14T11:13:34.461857Z"
    }
   },
   "outputs": [],
   "source": [
    "# Build a simple CNN model using a single Conv2D layer\n",
    "\n",
    "model = Sequential([\n",
    "    Conv2D(filters=32, kernel_size=(3,3), activation='relu', input_shape=(224,224,3)),\n",
    "    Flatten(),\n",
    "    Dense(2, activation='softmax'),\n",
    "])"
   ]
  },
  {
   "cell_type": "code",
   "execution_count": 8,
   "metadata": {
    "execution": {
     "iopub.execute_input": "2022-06-14T11:13:37.302523Z",
     "iopub.status.busy": "2022-06-14T11:13:37.302170Z",
     "iopub.status.idle": "2022-06-14T11:13:37.316301Z",
     "shell.execute_reply": "2022-06-14T11:13:37.315574Z",
     "shell.execute_reply.started": "2022-06-14T11:13:37.302488Z"
    }
   },
   "outputs": [],
   "source": [
    "# Compile the model\n",
    "\n",
    "model.compile(optimizer=Adam(lr=0.0001), loss='categorical_crossentropy', metrics=['accuracy'])"
   ]
  },
  {
   "cell_type": "code",
   "execution_count": 9,
   "metadata": {
    "execution": {
     "iopub.execute_input": "2022-06-14T11:13:37.319144Z",
     "iopub.status.busy": "2022-06-14T11:13:37.317531Z",
     "iopub.status.idle": "2022-06-14T11:13:49.548587Z",
     "shell.execute_reply": "2022-06-14T11:13:49.547842Z",
     "shell.execute_reply.started": "2022-06-14T11:13:37.319115Z"
    }
   },
   "outputs": [],
   "source": [
    "# Fit the data to model using fit_generator called on image generator object\n",
    "\n",
    "model.fit(train_batches, steps_per_epoch=6, validation_data=valid_batches, \n",
    "                    validation_steps=2, epochs=5, verbose=2)"
   ]
  },
  {
   "cell_type": "markdown",
   "metadata": {},
   "source": [
    "## The simple CNN model performed very poorly in fitting the data, the loss is high and accuracy very poor for training and validation stages"
   ]
  },
  {
   "cell_type": "code",
   "execution_count": 10,
   "metadata": {
    "execution": {
     "iopub.execute_input": "2022-06-14T11:13:49.552029Z",
     "iopub.status.busy": "2022-06-14T11:13:49.551734Z",
     "iopub.status.idle": "2022-06-14T11:13:49.621652Z",
     "shell.execute_reply": "2022-06-14T11:13:49.620752Z",
     "shell.execute_reply.started": "2022-06-14T11:13:49.552004Z"
    }
   },
   "outputs": [],
   "source": [
    "# Predict the test batches\n",
    "\n",
    "test_imgs, test_labels = next(test_batches)"
   ]
  },
  {
   "cell_type": "code",
   "execution_count": 11,
   "metadata": {
    "execution": {
     "iopub.execute_input": "2022-06-14T11:13:49.623454Z",
     "iopub.status.busy": "2022-06-14T11:13:49.623072Z",
     "iopub.status.idle": "2022-06-14T11:13:50.049434Z",
     "shell.execute_reply": "2022-06-14T11:13:50.048689Z",
     "shell.execute_reply.started": "2022-06-14T11:13:49.623418Z"
    }
   },
   "outputs": [],
   "source": [
    "plots(test_imgs, titles=test_labels)"
   ]
  },
  {
   "cell_type": "code",
   "execution_count": 12,
   "metadata": {
    "execution": {
     "iopub.execute_input": "2022-06-14T11:13:50.051585Z",
     "iopub.status.busy": "2022-06-14T11:13:50.050685Z",
     "iopub.status.idle": "2022-06-14T11:13:50.058607Z",
     "shell.execute_reply": "2022-06-14T11:13:50.057671Z",
     "shell.execute_reply.started": "2022-06-14T11:13:50.051546Z"
    }
   },
   "outputs": [],
   "source": [
    "test_labels = test_labels[:,0]\n",
    "test_labels"
   ]
  },
  {
   "cell_type": "code",
   "execution_count": 13,
   "metadata": {
    "execution": {
     "iopub.execute_input": "2022-06-14T11:13:50.061237Z",
     "iopub.status.busy": "2022-06-14T11:13:50.060219Z",
     "iopub.status.idle": "2022-06-14T11:13:50.300032Z",
     "shell.execute_reply": "2022-06-14T11:13:50.299211Z",
     "shell.execute_reply.started": "2022-06-14T11:13:50.061194Z"
    }
   },
   "outputs": [],
   "source": [
    "preds = model.predict(test_batches, steps=1, verbose=0)"
   ]
  },
  {
   "cell_type": "code",
   "execution_count": 14,
   "metadata": {
    "execution": {
     "iopub.execute_input": "2022-06-14T11:13:50.301972Z",
     "iopub.status.busy": "2022-06-14T11:13:50.301593Z",
     "iopub.status.idle": "2022-06-14T11:13:50.311869Z",
     "shell.execute_reply": "2022-06-14T11:13:50.311068Z",
     "shell.execute_reply.started": "2022-06-14T11:13:50.301930Z"
    }
   },
   "outputs": [],
   "source": [
    "preds"
   ]
  },
  {
   "cell_type": "code",
   "execution_count": 15,
   "metadata": {
    "execution": {
     "iopub.execute_input": "2022-06-14T11:13:50.314174Z",
     "iopub.status.busy": "2022-06-14T11:13:50.313457Z",
     "iopub.status.idle": "2022-06-14T11:13:50.318438Z",
     "shell.execute_reply": "2022-06-14T11:13:50.317399Z",
     "shell.execute_reply.started": "2022-06-14T11:13:50.314144Z"
    }
   },
   "outputs": [],
   "source": [
    "preds = np.round(preds)"
   ]
  },
  {
   "cell_type": "code",
   "execution_count": 16,
   "metadata": {
    "execution": {
     "iopub.execute_input": "2022-06-14T11:13:50.320747Z",
     "iopub.status.busy": "2022-06-14T11:13:50.319739Z",
     "iopub.status.idle": "2022-06-14T11:13:50.330108Z",
     "shell.execute_reply": "2022-06-14T11:13:50.328995Z",
     "shell.execute_reply.started": "2022-06-14T11:13:50.320705Z"
    }
   },
   "outputs": [],
   "source": [
    "preds[:,0]"
   ]
  },
  {
   "cell_type": "markdown",
   "metadata": {},
   "source": [
    "# The predictions show that all are cats, which is a very wrong prediction from the simple model"
   ]
  },
  {
   "cell_type": "code",
   "execution_count": 17,
   "metadata": {
    "execution": {
     "iopub.execute_input": "2022-06-14T11:13:50.331962Z",
     "iopub.status.busy": "2022-06-14T11:13:50.331474Z",
     "iopub.status.idle": "2022-06-14T11:13:50.341934Z",
     "shell.execute_reply": "2022-06-14T11:13:50.341058Z",
     "shell.execute_reply.started": "2022-06-14T11:13:50.331908Z"
    }
   },
   "outputs": [],
   "source": [
    "len(test_labels), len(preds[:,0])"
   ]
  },
  {
   "cell_type": "code",
   "execution_count": 18,
   "metadata": {
    "execution": {
     "iopub.execute_input": "2022-06-14T11:13:50.343767Z",
     "iopub.status.busy": "2022-06-14T11:13:50.343263Z",
     "iopub.status.idle": "2022-06-14T11:13:50.354104Z",
     "shell.execute_reply": "2022-06-14T11:13:50.353247Z",
     "shell.execute_reply.started": "2022-06-14T11:13:50.343731Z"
    }
   },
   "outputs": [],
   "source": [
    "type(test_labels[0]), type(preds[:,0][0])"
   ]
  },
  {
   "cell_type": "code",
   "execution_count": 19,
   "metadata": {
    "execution": {
     "iopub.execute_input": "2022-06-14T11:13:50.356510Z",
     "iopub.status.busy": "2022-06-14T11:13:50.356230Z",
     "iopub.status.idle": "2022-06-14T11:13:50.366600Z",
     "shell.execute_reply": "2022-06-14T11:13:50.365708Z",
     "shell.execute_reply.started": "2022-06-14T11:13:50.356465Z"
    }
   },
   "outputs": [],
   "source": [
    "confusion_matrix(test_labels, preds[:,0])"
   ]
  },
  {
   "cell_type": "code",
   "execution_count": 20,
   "metadata": {
    "execution": {
     "iopub.execute_input": "2022-06-14T11:13:50.368208Z",
     "iopub.status.busy": "2022-06-14T11:13:50.367740Z",
     "iopub.status.idle": "2022-06-14T11:13:50.749485Z",
     "shell.execute_reply": "2022-06-14T11:13:50.748652Z",
     "shell.execute_reply.started": "2022-06-14T11:13:50.368170Z"
    }
   },
   "outputs": [],
   "source": [
    "ConfusionMatrixDisplay.from_predictions(test_labels, preds[:,0], labels=[0, 1], display_labels=['Dog', 'Cat'])"
   ]
  },
  {
   "cell_type": "markdown",
   "metadata": {},
   "source": [
    "## So we see that the model has very high false positive and false negative\n",
    "\n",
    "## Now we will directly import a trained model and then fine tune it for cats and dogs"
   ]
  },
  {
   "cell_type": "code",
   "execution_count": 21,
   "metadata": {
    "execution": {
     "iopub.execute_input": "2022-06-14T11:13:50.751506Z",
     "iopub.status.busy": "2022-06-14T11:13:50.750906Z",
     "iopub.status.idle": "2022-06-14T11:13:54.345464Z",
     "shell.execute_reply": "2022-06-14T11:13:54.344494Z",
     "shell.execute_reply.started": "2022-06-14T11:13:50.751468Z"
    }
   },
   "outputs": [],
   "source": [
    "# Import the VGG16 pretrained model from keras library\n",
    "\n",
    "vgg16_model = keras.applications.vgg16.VGG16()"
   ]
  },
  {
   "cell_type": "markdown",
   "metadata": {},
   "source": [
    "What the hell just happened!! On my laptop this model took more than an hour to download. This is crazy."
   ]
  },
  {
   "cell_type": "code",
   "execution_count": 22,
   "metadata": {
    "execution": {
     "iopub.execute_input": "2022-06-14T11:13:54.347167Z",
     "iopub.status.busy": "2022-06-14T11:13:54.346765Z",
     "iopub.status.idle": "2022-06-14T11:13:54.355636Z",
     "shell.execute_reply": "2022-06-14T11:13:54.354690Z",
     "shell.execute_reply.started": "2022-06-14T11:13:54.347128Z"
    }
   },
   "outputs": [],
   "source": [
    "# Check summary of the model\n",
    "\n",
    "vgg16_model.summary()"
   ]
  },
  {
   "cell_type": "code",
   "execution_count": 23,
   "metadata": {
    "execution": {
     "iopub.execute_input": "2022-06-14T11:13:54.357670Z",
     "iopub.status.busy": "2022-06-14T11:13:54.357020Z",
     "iopub.status.idle": "2022-06-14T11:13:54.368842Z",
     "shell.execute_reply": "2022-06-14T11:13:54.367740Z",
     "shell.execute_reply.started": "2022-06-14T11:13:54.357632Z"
    }
   },
   "outputs": [],
   "source": [
    "# We have been creating models of type Sequential\n",
    "\n",
    "type(model)"
   ]
  },
  {
   "cell_type": "code",
   "execution_count": 24,
   "metadata": {
    "execution": {
     "iopub.execute_input": "2022-06-14T11:13:54.370928Z",
     "iopub.status.busy": "2022-06-14T11:13:54.370493Z",
     "iopub.status.idle": "2022-06-14T11:13:54.377857Z",
     "shell.execute_reply": "2022-06-14T11:13:54.376857Z",
     "shell.execute_reply.started": "2022-06-14T11:13:54.370893Z"
    }
   },
   "outputs": [],
   "source": [
    "# However, the downloaded model is of type functional\n",
    "\n",
    "type(vgg16_model)"
   ]
  },
  {
   "cell_type": "code",
   "execution_count": 25,
   "metadata": {
    "execution": {
     "iopub.execute_input": "2022-06-14T11:13:54.380365Z",
     "iopub.status.busy": "2022-06-14T11:13:54.379918Z",
     "iopub.status.idle": "2022-06-14T11:13:54.475653Z",
     "shell.execute_reply": "2022-06-14T11:13:54.474838Z",
     "shell.execute_reply.started": "2022-06-14T11:13:54.380328Z"
    }
   },
   "outputs": [],
   "source": [
    "# Copy the functional model layers into a Sequential model\n",
    "\n",
    "model2 = Sequential()\n",
    "for layer in vgg16_model.layers:\n",
    "    model2.add(layer)"
   ]
  },
  {
   "cell_type": "code",
   "execution_count": 26,
   "metadata": {
    "execution": {
     "iopub.execute_input": "2022-06-14T11:13:54.478929Z",
     "iopub.status.busy": "2022-06-14T11:13:54.476780Z",
     "iopub.status.idle": "2022-06-14T11:13:54.485891Z",
     "shell.execute_reply": "2022-06-14T11:13:54.485072Z",
     "shell.execute_reply.started": "2022-06-14T11:13:54.478901Z"
    }
   },
   "outputs": [],
   "source": [
    "# Summary of the new model will show that it is exactly the same\n",
    "\n",
    "model2.summary()"
   ]
  },
  {
   "cell_type": "code",
   "execution_count": 28,
   "metadata": {
    "execution": {
     "iopub.execute_input": "2022-06-14T11:14:18.753644Z",
     "iopub.status.busy": "2022-06-14T11:14:18.753022Z",
     "iopub.status.idle": "2022-06-14T11:14:18.761839Z",
     "shell.execute_reply": "2022-06-14T11:14:18.759710Z",
     "shell.execute_reply.started": "2022-06-14T11:14:18.753600Z"
    }
   },
   "outputs": [],
   "source": [
    "# And the type of the model is Sequential\n",
    "\n",
    "type(model2)"
   ]
  },
  {
   "cell_type": "code",
   "execution_count": 33,
   "metadata": {
    "execution": {
     "iopub.execute_input": "2022-06-14T11:21:21.826591Z",
     "iopub.status.busy": "2022-06-14T11:21:21.825766Z",
     "iopub.status.idle": "2022-06-14T11:21:21.831830Z",
     "shell.execute_reply": "2022-06-14T11:21:21.830762Z",
     "shell.execute_reply.started": "2022-06-14T11:21:21.826557Z"
    }
   },
   "outputs": [],
   "source": [
    "# Remove the last Dense output layer because that is classifying one of 1000 classes\n",
    "\n",
    "model2.pop()"
   ]
  },
  {
   "cell_type": "code",
   "execution_count": 34,
   "metadata": {
    "execution": {
     "iopub.execute_input": "2022-06-14T11:21:34.674690Z",
     "iopub.status.busy": "2022-06-14T11:21:34.674333Z",
     "iopub.status.idle": "2022-06-14T11:21:34.682268Z",
     "shell.execute_reply": "2022-06-14T11:21:34.681462Z",
     "shell.execute_reply.started": "2022-06-14T11:21:34.674659Z"
    }
   },
   "outputs": [],
   "source": [
    "# Check to see that the last output layer is gone\n",
    "\n",
    "model2.summary()"
   ]
  },
  {
   "cell_type": "code",
   "execution_count": 35,
   "metadata": {
    "execution": {
     "iopub.execute_input": "2022-06-14T11:27:33.101009Z",
     "iopub.status.busy": "2022-06-14T11:27:33.100598Z",
     "iopub.status.idle": "2022-06-14T11:27:33.106259Z",
     "shell.execute_reply": "2022-06-14T11:27:33.105283Z",
     "shell.execute_reply.started": "2022-06-14T11:27:33.100975Z"
    }
   },
   "outputs": [],
   "source": [
    "# Freeze all the layers in the model, these will not be trained in the future training steps\n",
    "\n",
    "for layer in model2.layers:\n",
    "    layer.trainable = False"
   ]
  },
  {
   "cell_type": "code",
   "execution_count": 36,
   "metadata": {
    "execution": {
     "iopub.execute_input": "2022-06-14T11:28:57.133538Z",
     "iopub.status.busy": "2022-06-14T11:28:57.132633Z",
     "iopub.status.idle": "2022-06-14T11:28:57.150094Z",
     "shell.execute_reply": "2022-06-14T11:28:57.149143Z",
     "shell.execute_reply.started": "2022-06-14T11:28:57.133498Z"
    }
   },
   "outputs": [],
   "source": [
    "# Now add a last output layer to classify only 2 categories for our cats and dogs\n",
    "\n",
    "model2.add(Dense(2, activation='softmax'))"
   ]
  },
  {
   "cell_type": "code",
   "execution_count": 38,
   "metadata": {
    "execution": {
     "iopub.execute_input": "2022-06-14T11:29:22.453508Z",
     "iopub.status.busy": "2022-06-14T11:29:22.453158Z",
     "iopub.status.idle": "2022-06-14T11:29:22.460484Z",
     "shell.execute_reply": "2022-06-14T11:29:22.459689Z",
     "shell.execute_reply.started": "2022-06-14T11:29:22.453480Z"
    }
   },
   "outputs": [],
   "source": [
    "# Check the summary of the model\n",
    "\n",
    "model2.summary()"
   ]
  },
  {
   "cell_type": "code",
   "execution_count": 39,
   "metadata": {
    "execution": {
     "iopub.execute_input": "2022-06-14T11:33:19.785683Z",
     "iopub.status.busy": "2022-06-14T11:33:19.785238Z",
     "iopub.status.idle": "2022-06-14T11:33:19.809600Z",
     "shell.execute_reply": "2022-06-14T11:33:19.808653Z",
     "shell.execute_reply.started": "2022-06-14T11:33:19.785647Z"
    }
   },
   "outputs": [],
   "source": [
    "# Compile the new model\n",
    "\n",
    "model2.compile(optimizer=Adam(learning_rate=0.0001), loss='categorical_crossentropy', \n",
    "               metrics=['accuracy'])"
   ]
  },
  {
   "cell_type": "code",
   "execution_count": 41,
   "metadata": {
    "execution": {
     "iopub.execute_input": "2022-06-14T11:48:13.343846Z",
     "iopub.status.busy": "2022-06-14T11:48:13.343436Z",
     "iopub.status.idle": "2022-06-14T11:48:22.875161Z",
     "shell.execute_reply": "2022-06-14T11:48:22.874407Z",
     "shell.execute_reply.started": "2022-06-14T11:48:13.343809Z"
    }
   },
   "outputs": [],
   "source": [
    "# Fit the model on the training dataset and check with the validation set\n",
    "\n",
    "model2.fit(train_batches, steps_per_epoch=6, validation_data=valid_batches, \n",
    "                    validation_steps=2, epochs=20, verbose=2)"
   ]
  },
  {
   "cell_type": "code",
   "execution_count": 56,
   "metadata": {
    "execution": {
     "iopub.execute_input": "2022-06-14T11:57:17.730753Z",
     "iopub.status.busy": "2022-06-14T11:57:17.730404Z",
     "iopub.status.idle": "2022-06-14T11:57:18.188443Z",
     "shell.execute_reply": "2022-06-14T11:57:18.187657Z",
     "shell.execute_reply.started": "2022-06-14T11:57:17.730726Z"
    }
   },
   "outputs": [],
   "source": [
    "# Predict using fine tuned VGG16 model\n",
    "\n",
    "test_imgs, test_labels = next(test_batches)\n",
    "plots(test_imgs, titles=test_labels)"
   ]
  },
  {
   "cell_type": "code",
   "execution_count": 57,
   "metadata": {
    "execution": {
     "iopub.execute_input": "2022-06-14T11:57:23.866971Z",
     "iopub.status.busy": "2022-06-14T11:57:23.866611Z",
     "iopub.status.idle": "2022-06-14T11:57:23.873857Z",
     "shell.execute_reply": "2022-06-14T11:57:23.872866Z",
     "shell.execute_reply.started": "2022-06-14T11:57:23.866942Z"
    }
   },
   "outputs": [],
   "source": [
    "test_labels = test_labels[:,0]\n",
    "test_labels"
   ]
  },
  {
   "cell_type": "code",
   "execution_count": 58,
   "metadata": {
    "execution": {
     "iopub.execute_input": "2022-06-14T11:57:26.604588Z",
     "iopub.status.busy": "2022-06-14T11:57:26.604235Z",
     "iopub.status.idle": "2022-06-14T11:57:26.759471Z",
     "shell.execute_reply": "2022-06-14T11:57:26.758665Z",
     "shell.execute_reply.started": "2022-06-14T11:57:26.604559Z"
    }
   },
   "outputs": [],
   "source": [
    "preds = model2.predict(test_batches, steps=1, verbose=0)"
   ]
  },
  {
   "cell_type": "code",
   "execution_count": 59,
   "metadata": {
    "execution": {
     "iopub.execute_input": "2022-06-14T11:57:29.878964Z",
     "iopub.status.busy": "2022-06-14T11:57:29.878584Z",
     "iopub.status.idle": "2022-06-14T11:57:29.885463Z",
     "shell.execute_reply": "2022-06-14T11:57:29.884467Z",
     "shell.execute_reply.started": "2022-06-14T11:57:29.878933Z"
    }
   },
   "outputs": [],
   "source": [
    "preds"
   ]
  },
  {
   "cell_type": "code",
   "execution_count": 60,
   "metadata": {
    "execution": {
     "iopub.execute_input": "2022-06-14T11:57:31.811039Z",
     "iopub.status.busy": "2022-06-14T11:57:31.810468Z",
     "iopub.status.idle": "2022-06-14T11:57:31.816191Z",
     "shell.execute_reply": "2022-06-14T11:57:31.814977Z",
     "shell.execute_reply.started": "2022-06-14T11:57:31.810993Z"
    }
   },
   "outputs": [],
   "source": [
    "preds = np.round(preds)"
   ]
  },
  {
   "cell_type": "code",
   "execution_count": 61,
   "metadata": {
    "execution": {
     "iopub.execute_input": "2022-06-14T11:57:32.946521Z",
     "iopub.status.busy": "2022-06-14T11:57:32.945889Z",
     "iopub.status.idle": "2022-06-14T11:57:32.953395Z",
     "shell.execute_reply": "2022-06-14T11:57:32.952104Z",
     "shell.execute_reply.started": "2022-06-14T11:57:32.946484Z"
    }
   },
   "outputs": [],
   "source": [
    "preds[:,0]"
   ]
  },
  {
   "cell_type": "code",
   "execution_count": 62,
   "metadata": {
    "execution": {
     "iopub.execute_input": "2022-06-14T11:57:34.342344Z",
     "iopub.status.busy": "2022-06-14T11:57:34.341752Z",
     "iopub.status.idle": "2022-06-14T11:57:34.538875Z",
     "shell.execute_reply": "2022-06-14T11:57:34.538020Z",
     "shell.execute_reply.started": "2022-06-14T11:57:34.342308Z"
    }
   },
   "outputs": [],
   "source": [
    "ConfusionMatrixDisplay.from_predictions(test_labels, preds[:,0], labels=[0, 1], \n",
    "                                        display_labels=['Dog', 'Cat'])"
   ]
  },
  {
   "cell_type": "code",
   "execution_count": 64,
   "metadata": {
    "execution": {
     "iopub.execute_input": "2022-06-14T11:59:05.275737Z",
     "iopub.status.busy": "2022-06-14T11:59:05.275384Z",
     "iopub.status.idle": "2022-06-14T11:59:05.282591Z",
     "shell.execute_reply": "2022-06-14T11:59:05.281782Z",
     "shell.execute_reply.started": "2022-06-14T11:59:05.275707Z"
    }
   },
   "outputs": [],
   "source": [
    "accuracy_score(test_labels, preds[:,0])"
   ]
  },
  {
   "cell_type": "markdown",
   "metadata": {},
   "source": [
    "# Very good accuracy! I just love this pre trained VGG16 model. Hats off to the creators."
   ]
  },
  {
   "cell_type": "code",
   "execution_count": null,
   "metadata": {},
   "outputs": [],
   "source": []
  }
 ],
 "metadata": {
  "kernelspec": {
   "display_name": "Python 3 (ipykernel)",
   "language": "python",
   "name": "python3"
  },
  "language_info": {
   "codemirror_mode": {
    "name": "ipython",
    "version": 3
   },
   "file_extension": ".py",
   "mimetype": "text/x-python",
   "name": "python",
   "nbconvert_exporter": "python",
   "pygments_lexer": "ipython3",
   "version": "3.9.12"
  }
 },
 "nbformat": 4,
 "nbformat_minor": 4
}
