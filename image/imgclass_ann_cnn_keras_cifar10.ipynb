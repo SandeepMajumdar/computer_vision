{
 "cells": [
  {
   "cell_type": "markdown",
   "id": "fe2b5a3d",
   "metadata": {},
   "source": [
    "# Cifar10 image classification using ANN and CNN in tensorflow keras\n",
    "1. Accuracy in ann was 50%\n",
    "2. Accuracy in simple cnn was 70%"
   ]
  },
  {
   "cell_type": "code",
   "execution_count": 1,
   "id": "2fd1e43f",
   "metadata": {
    "execution": {
     "iopub.execute_input": "2022-07-04T08:31:14.323159Z",
     "iopub.status.busy": "2022-07-04T08:31:14.322600Z",
     "iopub.status.idle": "2022-07-04T08:31:20.734079Z",
     "shell.execute_reply": "2022-07-04T08:31:20.733086Z"
    },
    "papermill": {
     "duration": 6.425479,
     "end_time": "2022-07-04T08:31:20.736591",
     "exception": false,
     "start_time": "2022-07-04T08:31:14.311112",
     "status": "completed"
    },
    "tags": []
   },
   "outputs": [],
   "source": [
    "import numpy as np\n",
    "import matplotlib.pyplot as plt\n",
    "import tensorflow as tf\n",
    "from tensorflow.keras import datasets, layers, models"
   ]
  },
  {
   "cell_type": "code",
   "execution_count": 2,
   "id": "4070f526",
   "metadata": {
    "execution": {
     "iopub.execute_input": "2022-07-04T08:31:20.756200Z",
     "iopub.status.busy": "2022-07-04T08:31:20.755677Z",
     "iopub.status.idle": "2022-07-04T08:31:25.032478Z",
     "shell.execute_reply": "2022-07-04T08:31:25.031456Z"
    },
    "papermill": {
     "duration": 4.288875,
     "end_time": "2022-07-04T08:31:25.034927",
     "exception": false,
     "start_time": "2022-07-04T08:31:20.746052",
     "status": "completed"
    },
    "tags": []
   },
   "outputs": [
    {
     "name": "stdout",
     "output_type": "stream",
     "text": [
      "Downloading data from https://www.cs.toronto.edu/~kriz/cifar-10-python.tar.gz\n",
      "170500096/170498071 [==============================] - 2s 0us/step\n",
      "170508288/170498071 [==============================] - 2s 0us/step\n"
     ]
    }
   ],
   "source": [
    "(X_train, y_train), (X_test, y_test) = datasets.cifar10.load_data()"
   ]
  },
  {
   "cell_type": "code",
   "execution_count": 3,
   "id": "4eaeb7d1",
   "metadata": {
    "execution": {
     "iopub.execute_input": "2022-07-04T08:31:25.060104Z",
     "iopub.status.busy": "2022-07-04T08:31:25.059565Z",
     "iopub.status.idle": "2022-07-04T08:31:25.071365Z",
     "shell.execute_reply": "2022-07-04T08:31:25.070430Z"
    },
    "papermill": {
     "duration": 0.026481,
     "end_time": "2022-07-04T08:31:25.073301",
     "exception": false,
     "start_time": "2022-07-04T08:31:25.046820",
     "status": "completed"
    },
    "tags": []
   },
   "outputs": [
    {
     "data": {
      "text/plain": [
       "((50000, 32, 32, 3),\n",
       " (50000, 1),\n",
       " array([[[ 59,  62,  63],\n",
       "         [ 43,  46,  45],\n",
       "         [ 50,  48,  43],\n",
       "         ...,\n",
       "         [158, 132, 108],\n",
       "         [152, 125, 102],\n",
       "         [148, 124, 103]],\n",
       " \n",
       "        [[ 16,  20,  20],\n",
       "         [  0,   0,   0],\n",
       "         [ 18,   8,   0],\n",
       "         ...,\n",
       "         [123,  88,  55],\n",
       "         [119,  83,  50],\n",
       "         [122,  87,  57]],\n",
       " \n",
       "        [[ 25,  24,  21],\n",
       "         [ 16,   7,   0],\n",
       "         [ 49,  27,   8],\n",
       "         ...,\n",
       "         [118,  84,  50],\n",
       "         [120,  84,  50],\n",
       "         [109,  73,  42]],\n",
       " \n",
       "        ...,\n",
       " \n",
       "        [[208, 170,  96],\n",
       "         [201, 153,  34],\n",
       "         [198, 161,  26],\n",
       "         ...,\n",
       "         [160, 133,  70],\n",
       "         [ 56,  31,   7],\n",
       "         [ 53,  34,  20]],\n",
       " \n",
       "        [[180, 139,  96],\n",
       "         [173, 123,  42],\n",
       "         [186, 144,  30],\n",
       "         ...,\n",
       "         [184, 148,  94],\n",
       "         [ 97,  62,  34],\n",
       "         [ 83,  53,  34]],\n",
       " \n",
       "        [[177, 144, 116],\n",
       "         [168, 129,  94],\n",
       "         [179, 142,  87],\n",
       "         ...,\n",
       "         [216, 184, 140],\n",
       "         [151, 118,  84],\n",
       "         [123,  92,  72]]], dtype=uint8),\n",
       " array([6], dtype=uint8))"
      ]
     },
     "execution_count": 3,
     "metadata": {},
     "output_type": "execute_result"
    }
   ],
   "source": [
    "X_train.shape, y_train.shape, X_train[0], y_train[0]"
   ]
  },
  {
   "cell_type": "code",
   "execution_count": 4,
   "id": "74471c6e",
   "metadata": {
    "execution": {
     "iopub.execute_input": "2022-07-04T08:31:25.098538Z",
     "iopub.status.busy": "2022-07-04T08:31:25.097616Z",
     "iopub.status.idle": "2022-07-04T08:31:25.104706Z",
     "shell.execute_reply": "2022-07-04T08:31:25.103709Z"
    },
    "papermill": {
     "duration": 0.021917,
     "end_time": "2022-07-04T08:31:25.106713",
     "exception": false,
     "start_time": "2022-07-04T08:31:25.084796",
     "status": "completed"
    },
    "tags": []
   },
   "outputs": [
    {
     "data": {
      "text/plain": [
       "array([[6],\n",
       "       [9],\n",
       "       [9]], dtype=uint8)"
      ]
     },
     "execution_count": 4,
     "metadata": {},
     "output_type": "execute_result"
    }
   ],
   "source": [
    "y_train[:3]"
   ]
  },
  {
   "cell_type": "code",
   "execution_count": 5,
   "id": "c7ebfb0a",
   "metadata": {
    "execution": {
     "iopub.execute_input": "2022-07-04T08:31:25.131611Z",
     "iopub.status.busy": "2022-07-04T08:31:25.130749Z",
     "iopub.status.idle": "2022-07-04T08:31:25.137907Z",
     "shell.execute_reply": "2022-07-04T08:31:25.136962Z"
    },
    "papermill": {
     "duration": 0.02204,
     "end_time": "2022-07-04T08:31:25.140090",
     "exception": false,
     "start_time": "2022-07-04T08:31:25.118050",
     "status": "completed"
    },
    "tags": []
   },
   "outputs": [
    {
     "data": {
      "text/plain": [
       "((50000,), array([6, 9, 9], dtype=uint8))"
      ]
     },
     "execution_count": 5,
     "metadata": {},
     "output_type": "execute_result"
    }
   ],
   "source": [
    "y_train = y_train.reshape(-1,)\n",
    "y_train.shape, y_train[:3]"
   ]
  },
  {
   "cell_type": "code",
   "execution_count": 6,
   "id": "a6a247a5",
   "metadata": {
    "execution": {
     "iopub.execute_input": "2022-07-04T08:31:25.166784Z",
     "iopub.status.busy": "2022-07-04T08:31:25.165838Z",
     "iopub.status.idle": "2022-07-04T08:31:25.171550Z",
     "shell.execute_reply": "2022-07-04T08:31:25.170613Z"
    },
    "papermill": {
     "duration": 0.02126,
     "end_time": "2022-07-04T08:31:25.173605",
     "exception": false,
     "start_time": "2022-07-04T08:31:25.152345",
     "status": "completed"
    },
    "tags": []
   },
   "outputs": [],
   "source": [
    "def plot_image(img, label):\n",
    "    plt.figure(figsize=(3,3))\n",
    "    plt.imshow(img)\n",
    "    plt.title(label)\n",
    "    plt.show()"
   ]
  },
  {
   "cell_type": "code",
   "execution_count": 7,
   "id": "f10d2633",
   "metadata": {
    "execution": {
     "iopub.execute_input": "2022-07-04T08:31:25.198852Z",
     "iopub.status.busy": "2022-07-04T08:31:25.198011Z",
     "iopub.status.idle": "2022-07-04T08:31:25.205566Z",
     "shell.execute_reply": "2022-07-04T08:31:25.204460Z"
    },
    "papermill": {
     "duration": 0.022076,
     "end_time": "2022-07-04T08:31:25.207590",
     "exception": false,
     "start_time": "2022-07-04T08:31:25.185514",
     "status": "completed"
    },
    "tags": []
   },
   "outputs": [
    {
     "data": {
      "text/plain": [
       "10"
      ]
     },
     "execution_count": 7,
     "metadata": {},
     "output_type": "execute_result"
    }
   ],
   "source": [
    "classes = ['airplane', \n",
    "'automobile', \n",
    "'bird', \n",
    "'cat', \n",
    "'deer', \n",
    "'dog', \n",
    "'frog', \n",
    "'horse', \n",
    "'ship', \n",
    "'truck', ]\n",
    "len(classes)"
   ]
  },
  {
   "cell_type": "code",
   "execution_count": 8,
   "id": "7ff516f5",
   "metadata": {
    "execution": {
     "iopub.execute_input": "2022-07-04T08:31:25.234543Z",
     "iopub.status.busy": "2022-07-04T08:31:25.233502Z",
     "iopub.status.idle": "2022-07-04T08:31:25.247933Z",
     "shell.execute_reply": "2022-07-04T08:31:25.246840Z"
    },
    "papermill": {
     "duration": 0.029965,
     "end_time": "2022-07-04T08:31:25.249977",
     "exception": false,
     "start_time": "2022-07-04T08:31:25.220012",
     "status": "completed"
    },
    "tags": []
   },
   "outputs": [
    {
     "data": {
      "text/plain": [
       "{0, 1, 2, 3, 4, 5, 6, 7, 8, 9}"
      ]
     },
     "execution_count": 8,
     "metadata": {},
     "output_type": "execute_result"
    }
   ],
   "source": [
    "set(y_train)"
   ]
  },
  {
   "cell_type": "code",
   "execution_count": 9,
   "id": "da79b1e2",
   "metadata": {
    "execution": {
     "iopub.execute_input": "2022-07-04T08:31:25.276324Z",
     "iopub.status.busy": "2022-07-04T08:31:25.275203Z",
     "iopub.status.idle": "2022-07-04T08:31:25.470971Z",
     "shell.execute_reply": "2022-07-04T08:31:25.469955Z"
    },
    "papermill": {
     "duration": 0.211101,
     "end_time": "2022-07-04T08:31:25.473027",
     "exception": false,
     "start_time": "2022-07-04T08:31:25.261926",
     "status": "completed"
    },
    "tags": []
   },
   "outputs": [
    {
     "data": {
      "image/png": "[encoded data removed]",
      "text/plain": [
       "<Figure size 216x216 with 1 Axes>"
      ]
     },
     "metadata": {
      "needs_background": "light"
     },
     "output_type": "display_data"
    }
   ],
   "source": [
    "index = 27\n",
    "plot_image(X_train[index], classes[y_train[index]])"
   ]
  },
  {
   "cell_type": "code",
   "execution_count": 10,
   "id": "2d008a80",
   "metadata": {
    "execution": {
     "iopub.execute_input": "2022-07-04T08:31:25.500285Z",
     "iopub.status.busy": "2022-07-04T08:31:25.498499Z",
     "iopub.status.idle": "2022-07-04T08:31:25.507444Z",
     "shell.execute_reply": "2022-07-04T08:31:25.506627Z"
    },
    "papermill": {
     "duration": 0.024271,
     "end_time": "2022-07-04T08:31:25.509465",
     "exception": false,
     "start_time": "2022-07-04T08:31:25.485194",
     "status": "completed"
    },
    "tags": []
   },
   "outputs": [
    {
     "data": {
      "text/plain": [
       "(0, 255)"
      ]
     },
     "execution_count": 10,
     "metadata": {},
     "output_type": "execute_result"
    }
   ],
   "source": [
    "# Check the maximum and minimum values of the arrays\n",
    "\n",
    "np.min(X_train[0]), np.max(X_train[0])"
   ]
  },
  {
   "cell_type": "code",
   "execution_count": 11,
   "id": "5454fde8",
   "metadata": {
    "execution": {
     "iopub.execute_input": "2022-07-04T08:31:25.536114Z",
     "iopub.status.busy": "2022-07-04T08:31:25.535215Z",
     "iopub.status.idle": "2022-07-04T08:31:26.029489Z",
     "shell.execute_reply": "2022-07-04T08:31:26.028579Z"
    },
    "papermill": {
     "duration": 0.509572,
     "end_time": "2022-07-04T08:31:26.031575",
     "exception": false,
     "start_time": "2022-07-04T08:31:25.522003",
     "status": "completed"
    },
    "tags": []
   },
   "outputs": [
    {
     "data": {
      "text/plain": [
       "array([[[0.23137255, 0.24313725, 0.24705882],\n",
       "        [0.16862745, 0.18039216, 0.17647059],\n",
       "        [0.19607843, 0.18823529, 0.16862745],\n",
       "        ...,\n",
       "        [0.61960784, 0.51764706, 0.42352941],\n",
       "        [0.59607843, 0.49019608, 0.4       ],\n",
       "        [0.58039216, 0.48627451, 0.40392157]],\n",
       "\n",
       "       [[0.0627451 , 0.07843137, 0.07843137],\n",
       "        [0.        , 0.        , 0.        ],\n",
       "        [0.07058824, 0.03137255, 0.        ],\n",
       "        ...,\n",
       "        [0.48235294, 0.34509804, 0.21568627],\n",
       "        [0.46666667, 0.3254902 , 0.19607843],\n",
       "        [0.47843137, 0.34117647, 0.22352941]],\n",
       "\n",
       "       [[0.09803922, 0.09411765, 0.08235294],\n",
       "        [0.0627451 , 0.02745098, 0.        ],\n",
       "        [0.19215686, 0.10588235, 0.03137255],\n",
       "        ...,\n",
       "        [0.4627451 , 0.32941176, 0.19607843],\n",
       "        [0.47058824, 0.32941176, 0.19607843],\n",
       "        [0.42745098, 0.28627451, 0.16470588]],\n",
       "\n",
       "       ...,\n",
       "\n",
       "       [[0.81568627, 0.66666667, 0.37647059],\n",
       "        [0.78823529, 0.6       , 0.13333333],\n",
       "        [0.77647059, 0.63137255, 0.10196078],\n",
       "        ...,\n",
       "        [0.62745098, 0.52156863, 0.2745098 ],\n",
       "        [0.21960784, 0.12156863, 0.02745098],\n",
       "        [0.20784314, 0.13333333, 0.07843137]],\n",
       "\n",
       "       [[0.70588235, 0.54509804, 0.37647059],\n",
       "        [0.67843137, 0.48235294, 0.16470588],\n",
       "        [0.72941176, 0.56470588, 0.11764706],\n",
       "        ...,\n",
       "        [0.72156863, 0.58039216, 0.36862745],\n",
       "        [0.38039216, 0.24313725, 0.13333333],\n",
       "        [0.3254902 , 0.20784314, 0.13333333]],\n",
       "\n",
       "       [[0.69411765, 0.56470588, 0.45490196],\n",
       "        [0.65882353, 0.50588235, 0.36862745],\n",
       "        [0.70196078, 0.55686275, 0.34117647],\n",
       "        ...,\n",
       "        [0.84705882, 0.72156863, 0.54901961],\n",
       "        [0.59215686, 0.4627451 , 0.32941176],\n",
       "        [0.48235294, 0.36078431, 0.28235294]]])"
      ]
     },
     "execution_count": 11,
     "metadata": {},
     "output_type": "execute_result"
    }
   ],
   "source": [
    "# Normalize the array for feeding into the neural network\n",
    "\n",
    "X_train, X_test = X_train/255, X_test/255\n",
    "X_train[0]"
   ]
  },
  {
   "cell_type": "code",
   "execution_count": 12,
   "id": "2b7aabaa",
   "metadata": {
    "execution": {
     "iopub.execute_input": "2022-07-04T08:31:26.058565Z",
     "iopub.status.busy": "2022-07-04T08:31:26.058258Z",
     "iopub.status.idle": "2022-07-04T08:31:26.065053Z",
     "shell.execute_reply": "2022-07-04T08:31:26.064141Z"
    },
    "papermill": {
     "duration": 0.025012,
     "end_time": "2022-07-04T08:31:26.069283",
     "exception": false,
     "start_time": "2022-07-04T08:31:26.044271",
     "status": "completed"
    },
    "tags": []
   },
   "outputs": [
    {
     "data": {
      "text/plain": [
       "(0.0, 1.0)"
      ]
     },
     "execution_count": 12,
     "metadata": {},
     "output_type": "execute_result"
    }
   ],
   "source": [
    "np.min(X_train[0]), np.max(X_train[0])"
   ]
  },
  {
   "cell_type": "code",
   "execution_count": 13,
   "id": "8bd3545b",
   "metadata": {
    "execution": {
     "iopub.execute_input": "2022-07-04T08:31:26.112606Z",
     "iopub.status.busy": "2022-07-04T08:31:26.112287Z",
     "iopub.status.idle": "2022-07-04T08:31:26.123625Z",
     "shell.execute_reply": "2022-07-04T08:31:26.121698Z"
    },
    "papermill": {
     "duration": 0.033007,
     "end_time": "2022-07-04T08:31:26.127024",
     "exception": false,
     "start_time": "2022-07-04T08:31:26.094017",
     "status": "completed"
    },
    "tags": []
   },
   "outputs": [
    {
     "data": {
      "text/plain": [
       "(50000, 32, 32, 3)"
      ]
     },
     "execution_count": 13,
     "metadata": {},
     "output_type": "execute_result"
    }
   ],
   "source": [
    "X_train.shape"
   ]
  },
  {
   "cell_type": "code",
   "execution_count": 14,
   "id": "474348bb",
   "metadata": {
    "execution": {
     "iopub.execute_input": "2022-07-04T08:31:26.202511Z",
     "iopub.status.busy": "2022-07-04T08:31:26.201830Z",
     "iopub.status.idle": "2022-07-04T08:31:29.738987Z",
     "shell.execute_reply": "2022-07-04T08:31:29.737995Z"
    },
    "papermill": {
     "duration": 3.572647,
     "end_time": "2022-07-04T08:31:29.741603",
     "exception": false,
     "start_time": "2022-07-04T08:31:26.168956",
     "status": "completed"
    },
    "tags": []
   },
   "outputs": [
    {
     "name": "stderr",
     "output_type": "stream",
     "text": [
      "2022-07-04 08:31:26.340703: I tensorflow/stream_executor/cuda/cuda_gpu_executor.cc:937] successful NUMA node read from SysFS had negative value (-1), but there must be at least one NUMA node, so returning NUMA node zero\n",
      "2022-07-04 08:31:26.461314: I tensorflow/stream_executor/cuda/cuda_gpu_executor.cc:937] successful NUMA node read from SysFS had negative value (-1), but there must be at least one NUMA node, so returning NUMA node zero\n",
      "2022-07-04 08:31:26.462636: I tensorflow/stream_executor/cuda/cuda_gpu_executor.cc:937] successful NUMA node read from SysFS had negative value (-1), but there must be at least one NUMA node, so returning NUMA node zero\n",
      "2022-07-04 08:31:26.465795: I tensorflow/core/platform/cpu_feature_guard.cc:142] This TensorFlow binary is optimized with oneAPI Deep Neural Network Library (oneDNN) to use the following CPU instructions in performance-critical operations:  AVX2 AVX512F FMA\n",
      "To enable them in other operations, rebuild TensorFlow with the appropriate compiler flags.\n",
      "2022-07-04 08:31:26.466379: I tensorflow/stream_executor/cuda/cuda_gpu_executor.cc:937] successful NUMA node read from SysFS had negative value (-1), but there must be at least one NUMA node, so returning NUMA node zero\n",
      "2022-07-04 08:31:26.467773: I tensorflow/stream_executor/cuda/cuda_gpu_executor.cc:937] successful NUMA node read from SysFS had negative value (-1), but there must be at least one NUMA node, so returning NUMA node zero\n",
      "2022-07-04 08:31:26.469084: I tensorflow/stream_executor/cuda/cuda_gpu_executor.cc:937] successful NUMA node read from SysFS had negative value (-1), but there must be at least one NUMA node, so returning NUMA node zero\n",
      "2022-07-04 08:31:29.196232: I tensorflow/stream_executor/cuda/cuda_gpu_executor.cc:937] successful NUMA node read from SysFS had negative value (-1), but there must be at least one NUMA node, so returning NUMA node zero\n",
      "2022-07-04 08:31:29.197237: I tensorflow/stream_executor/cuda/cuda_gpu_executor.cc:937] successful NUMA node read from SysFS had negative value (-1), but there must be at least one NUMA node, so returning NUMA node zero\n",
      "2022-07-04 08:31:29.197997: I tensorflow/stream_executor/cuda/cuda_gpu_executor.cc:937] successful NUMA node read from SysFS had negative value (-1), but there must be at least one NUMA node, so returning NUMA node zero\n",
      "2022-07-04 08:31:29.198615: I tensorflow/core/common_runtime/gpu/gpu_device.cc:1510] Created device /job:localhost/replica:0/task:0/device:GPU:0 with 15403 MB memory:  -> device: 0, name: Tesla P100-PCIE-16GB, pci bus id: 0000:00:04.0, compute capability: 6.0\n"
     ]
    }
   ],
   "source": [
    "# Define the dense neural network\n",
    "\n",
    "model = models.Sequential([\n",
    "    layers.Flatten(input_shape=(32,32,3)),\n",
    "    layers.Dense(units=3000, activation='relu'),\n",
    "    layers.Dense(units=1000, activation='relu'),\n",
    "    layers.Dense(units=10, activation='softmax')\n",
    "])\n",
    "\n",
    "model.compile(optimizer='Adam', loss='sparse_categorical_crossentropy', metrics=['accuracy'])"
   ]
  },
  {
   "cell_type": "code",
   "execution_count": 15,
   "id": "368564dc",
   "metadata": {
    "execution": {
     "iopub.execute_input": "2022-07-04T08:31:29.767867Z",
     "iopub.status.busy": "2022-07-04T08:31:29.767548Z",
     "iopub.status.idle": "2022-07-04T08:32:13.172755Z",
     "shell.execute_reply": "2022-07-04T08:32:13.171775Z"
    },
    "papermill": {
     "duration": 43.420917,
     "end_time": "2022-07-04T08:32:13.175034",
     "exception": false,
     "start_time": "2022-07-04T08:31:29.754117",
     "status": "completed"
    },
    "tags": []
   },
   "outputs": [
    {
     "name": "stderr",
     "output_type": "stream",
     "text": [
      "2022-07-04 08:31:31.059631: I tensorflow/compiler/mlir/mlir_graph_optimization_pass.cc:185] None of the MLIR Optimization Passes are enabled (registered 2)\n"
     ]
    },
    {
     "name": "stdout",
     "output_type": "stream",
     "text": [
      "Epoch 1/10\n",
      "1250/1250 [==============================] - 6s 4ms/step - loss: 1.9195 - accuracy: 0.3183 - val_loss: 1.7635 - val_accuracy: 0.3713\n",
      "Epoch 2/10\n",
      "1250/1250 [==============================] - 4s 3ms/step - loss: 1.6831 - accuracy: 0.3980 - val_loss: 1.6657 - val_accuracy: 0.4100\n",
      "Epoch 3/10\n",
      "1250/1250 [==============================] - 4s 3ms/step - loss: 1.6092 - accuracy: 0.4191 - val_loss: 1.6251 - val_accuracy: 0.4243\n",
      "Epoch 4/10\n",
      "1250/1250 [==============================] - 5s 4ms/step - loss: 1.5561 - accuracy: 0.4445 - val_loss: 1.5851 - val_accuracy: 0.4397\n",
      "Epoch 5/10\n",
      "1250/1250 [==============================] - 4s 3ms/step - loss: 1.5085 - accuracy: 0.4588 - val_loss: 1.5509 - val_accuracy: 0.4500\n",
      "Epoch 6/10\n",
      "1250/1250 [==============================] - 4s 3ms/step - loss: 1.4763 - accuracy: 0.4688 - val_loss: 1.5369 - val_accuracy: 0.4544\n",
      "Epoch 7/10\n",
      "1250/1250 [==============================] - 4s 3ms/step - loss: 1.4507 - accuracy: 0.4809 - val_loss: 1.5106 - val_accuracy: 0.4669\n",
      "Epoch 8/10\n",
      "1250/1250 [==============================] - 4s 3ms/step - loss: 1.4262 - accuracy: 0.4867 - val_loss: 1.5425 - val_accuracy: 0.4573\n",
      "Epoch 9/10\n",
      "1250/1250 [==============================] - 4s 3ms/step - loss: 1.4037 - accuracy: 0.4929 - val_loss: 1.5618 - val_accuracy: 0.4457\n",
      "Epoch 10/10\n",
      "1250/1250 [==============================] - 4s 3ms/step - loss: 1.3844 - accuracy: 0.5016 - val_loss: 1.4936 - val_accuracy: 0.4772\n"
     ]
    }
   ],
   "source": [
    "# Train the model for 10 epochs\n",
    "history = model.fit(X_train, y_train, validation_split=0.2, verbose=1, epochs=10)"
   ]
  },
  {
   "cell_type": "code",
   "execution_count": 16,
   "id": "aba1056d",
   "metadata": {
    "execution": {
     "iopub.execute_input": "2022-07-04T08:32:13.284159Z",
     "iopub.status.busy": "2022-07-04T08:32:13.283173Z",
     "iopub.status.idle": "2022-07-04T08:32:13.291027Z",
     "shell.execute_reply": "2022-07-04T08:32:13.289886Z"
    },
    "papermill": {
     "duration": 0.064234,
     "end_time": "2022-07-04T08:32:13.293356",
     "exception": false,
     "start_time": "2022-07-04T08:32:13.229122",
     "status": "completed"
    },
    "tags": []
   },
   "outputs": [
    {
     "data": {
      "text/plain": [
       "{'loss': [1.9194730520248413,\n",
       "  1.6830841302871704,\n",
       "  1.6092196702957153,\n",
       "  1.5560519695281982,\n",
       "  1.5084846019744873,\n",
       "  1.4762769937515259,\n",
       "  1.4507485628128052,\n",
       "  1.4262186288833618,\n",
       "  1.403691053390503,\n",
       "  1.3843810558319092],\n",
       " 'accuracy': [0.318325012922287,\n",
       "  0.3980250060558319,\n",
       "  0.4191499948501587,\n",
       "  0.44452500343322754,\n",
       "  0.4588499963283539,\n",
       "  0.46882501244544983,\n",
       "  0.4809499979019165,\n",
       "  0.48669999837875366,\n",
       "  0.49287500977516174,\n",
       "  0.5016000270843506],\n",
       " 'val_loss': [1.7635443210601807,\n",
       "  1.665673851966858,\n",
       "  1.625125527381897,\n",
       "  1.5850740671157837,\n",
       "  1.5508662462234497,\n",
       "  1.536902904510498,\n",
       "  1.510607361793518,\n",
       "  1.5424586534500122,\n",
       "  1.5617629289627075,\n",
       "  1.4935985803604126],\n",
       " 'val_accuracy': [0.37130001187324524,\n",
       "  0.4099999964237213,\n",
       "  0.4242999851703644,\n",
       "  0.43970000743865967,\n",
       "  0.44999998807907104,\n",
       "  0.4544000029563904,\n",
       "  0.4668999910354614,\n",
       "  0.45730000734329224,\n",
       "  0.4456999897956848,\n",
       "  0.4772000014781952]}"
      ]
     },
     "execution_count": 16,
     "metadata": {},
     "output_type": "execute_result"
    }
   ],
   "source": [
    "history_Dict = history.history\n",
    "history_Dict"
   ]
  },
  {
   "cell_type": "code",
   "execution_count": 17,
   "id": "0c4066bf",
   "metadata": {
    "execution": {
     "iopub.execute_input": "2022-07-04T08:32:13.401983Z",
     "iopub.status.busy": "2022-07-04T08:32:13.401060Z",
     "iopub.status.idle": "2022-07-04T08:32:13.573489Z",
     "shell.execute_reply": "2022-07-04T08:32:13.572606Z"
    },
    "papermill": {
     "duration": 0.228567,
     "end_time": "2022-07-04T08:32:13.575856",
     "exception": false,
     "start_time": "2022-07-04T08:32:13.347289",
     "status": "completed"
    },
    "tags": []
   },
   "outputs": [
    {
     "data": {
      "image/png": "[encoded data removed]",
      "text/plain": [
       "<Figure size 432x288 with 1 Axes>"
      ]
     },
     "metadata": {
      "needs_background": "light"
     },
     "output_type": "display_data"
    }
   ],
   "source": [
    "x = np.arange(0, 10, 1)\n",
    "loss = history_Dict['loss']\n",
    "val_loss = history_Dict['val_loss']\n",
    "plt.plot(x, loss, 'go--')\n",
    "plt.plot(x, val_loss, 'b+--')\n",
    "plt.show()"
   ]
  },
  {
   "cell_type": "markdown",
   "id": "694a1cc6",
   "metadata": {
    "papermill": {
     "duration": 0.053661,
     "end_time": "2022-07-04T08:32:13.684980",
     "exception": false,
     "start_time": "2022-07-04T08:32:13.631319",
     "status": "completed"
    },
    "tags": []
   },
   "source": [
    "## Model seems to have performed a bit poorly on validation set"
   ]
  },
  {
   "cell_type": "code",
   "execution_count": 18,
   "id": "c1cd7c2d",
   "metadata": {
    "execution": {
     "iopub.execute_input": "2022-07-04T08:32:13.794555Z",
     "iopub.status.busy": "2022-07-04T08:32:13.794204Z",
     "iopub.status.idle": "2022-07-04T08:32:14.505055Z",
     "shell.execute_reply": "2022-07-04T08:32:14.504113Z"
    },
    "papermill": {
     "duration": 0.768925,
     "end_time": "2022-07-04T08:32:14.507763",
     "exception": false,
     "start_time": "2022-07-04T08:32:13.738838",
     "status": "completed"
    },
    "tags": []
   },
   "outputs": [],
   "source": [
    "# Predict results\n",
    "preds = model.predict(X_test)"
   ]
  },
  {
   "cell_type": "code",
   "execution_count": 19,
   "id": "aca104b5",
   "metadata": {
    "execution": {
     "iopub.execute_input": "2022-07-04T08:32:14.617496Z",
     "iopub.status.busy": "2022-07-04T08:32:14.616518Z",
     "iopub.status.idle": "2022-07-04T08:32:14.624602Z",
     "shell.execute_reply": "2022-07-04T08:32:14.623603Z"
    },
    "papermill": {
     "duration": 0.064691,
     "end_time": "2022-07-04T08:32:14.626764",
     "exception": false,
     "start_time": "2022-07-04T08:32:14.562073",
     "status": "completed"
    },
    "tags": []
   },
   "outputs": [
    {
     "data": {
      "text/plain": [
       "numpy.ndarray"
      ]
     },
     "execution_count": 19,
     "metadata": {},
     "output_type": "execute_result"
    }
   ],
   "source": [
    "type(preds)"
   ]
  },
  {
   "cell_type": "code",
   "execution_count": 20,
   "id": "96c54f5e",
   "metadata": {
    "execution": {
     "iopub.execute_input": "2022-07-04T08:32:14.738410Z",
     "iopub.status.busy": "2022-07-04T08:32:14.737738Z",
     "iopub.status.idle": "2022-07-04T08:32:14.744709Z",
     "shell.execute_reply": "2022-07-04T08:32:14.743591Z"
    },
    "papermill": {
     "duration": 0.067682,
     "end_time": "2022-07-04T08:32:14.748263",
     "exception": false,
     "start_time": "2022-07-04T08:32:14.680581",
     "status": "completed"
    },
    "tags": []
   },
   "outputs": [
    {
     "data": {
      "text/plain": [
       "(10000, 10)"
      ]
     },
     "execution_count": 20,
     "metadata": {},
     "output_type": "execute_result"
    }
   ],
   "source": [
    "preds.shape"
   ]
  },
  {
   "cell_type": "code",
   "execution_count": 21,
   "id": "ffc31d3c",
   "metadata": {
    "execution": {
     "iopub.execute_input": "2022-07-04T08:32:14.857638Z",
     "iopub.status.busy": "2022-07-04T08:32:14.857278Z",
     "iopub.status.idle": "2022-07-04T08:32:14.864356Z",
     "shell.execute_reply": "2022-07-04T08:32:14.863393Z"
    },
    "papermill": {
     "duration": 0.063869,
     "end_time": "2022-07-04T08:32:14.866316",
     "exception": false,
     "start_time": "2022-07-04T08:32:14.802447",
     "status": "completed"
    },
    "tags": []
   },
   "outputs": [
    {
     "data": {
      "text/plain": [
       "(10000,)"
      ]
     },
     "execution_count": 21,
     "metadata": {},
     "output_type": "execute_result"
    }
   ],
   "source": [
    "preds_index = preds.argmax(axis=1)\n",
    "preds_index.shape"
   ]
  },
  {
   "cell_type": "code",
   "execution_count": 22,
   "id": "b260838a",
   "metadata": {
    "execution": {
     "iopub.execute_input": "2022-07-04T08:32:14.976802Z",
     "iopub.status.busy": "2022-07-04T08:32:14.976163Z",
     "iopub.status.idle": "2022-07-04T08:32:15.672055Z",
     "shell.execute_reply": "2022-07-04T08:32:15.670740Z"
    },
    "papermill": {
     "duration": 0.753408,
     "end_time": "2022-07-04T08:32:15.674206",
     "exception": false,
     "start_time": "2022-07-04T08:32:14.920798",
     "status": "completed"
    },
    "tags": []
   },
   "outputs": [
    {
     "name": "stdout",
     "output_type": "stream",
     "text": [
      "Accuracy score: 0.4855\n"
     ]
    }
   ],
   "source": [
    "# Check the performance of the model on test set\n",
    "from sklearn.metrics import ConfusionMatrixDisplay, classification_report, accuracy_score\n",
    "print(f\"Accuracy score: {accuracy_score(preds_index, y_test)}\")"
   ]
  },
  {
   "cell_type": "code",
   "execution_count": 23,
   "id": "54f6dce4",
   "metadata": {
    "execution": {
     "iopub.execute_input": "2022-07-04T08:32:15.787554Z",
     "iopub.status.busy": "2022-07-04T08:32:15.786486Z",
     "iopub.status.idle": "2022-07-04T08:32:15.819939Z",
     "shell.execute_reply": "2022-07-04T08:32:15.817994Z"
    },
    "papermill": {
     "duration": 0.09255,
     "end_time": "2022-07-04T08:32:15.822013",
     "exception": false,
     "start_time": "2022-07-04T08:32:15.729463",
     "status": "completed"
    },
    "tags": []
   },
   "outputs": [
    {
     "name": "stdout",
     "output_type": "stream",
     "text": [
      "              precision    recall  f1-score   support\n",
      "\n",
      "           0       0.49      0.61      0.55       805\n",
      "           1       0.59      0.63      0.61       937\n",
      "           2       0.29      0.41      0.34       719\n",
      "           3       0.22      0.36      0.28       629\n",
      "           4       0.29      0.51      0.37       558\n",
      "           5       0.40      0.38      0.39      1053\n",
      "           6       0.76      0.40      0.52      1911\n",
      "           7       0.56      0.53      0.54      1062\n",
      "           8       0.68      0.56      0.61      1210\n",
      "           9       0.57      0.51      0.54      1116\n",
      "\n",
      "    accuracy                           0.49     10000\n",
      "   macro avg       0.49      0.49      0.47     10000\n",
      "weighted avg       0.54      0.49      0.50     10000\n",
      "\n"
     ]
    }
   ],
   "source": [
    "print(classification_report(preds_index, y_test))"
   ]
  },
  {
   "cell_type": "code",
   "execution_count": 24,
   "id": "5e1147b4",
   "metadata": {
    "execution": {
     "iopub.execute_input": "2022-07-04T08:32:15.930220Z",
     "iopub.status.busy": "2022-07-04T08:32:15.929847Z",
     "iopub.status.idle": "2022-07-04T08:32:16.484679Z",
     "shell.execute_reply": "2022-07-04T08:32:16.483634Z"
    },
    "papermill": {
     "duration": 0.612108,
     "end_time": "2022-07-04T08:32:16.487214",
     "exception": false,
     "start_time": "2022-07-04T08:32:15.875106",
     "status": "completed"
    },
    "tags": []
   },
   "outputs": [
    {
     "data": {
      "text/plain": [
       "<sklearn.metrics._plot.confusion_matrix.ConfusionMatrixDisplay at 0x7f99bdbab250>"
      ]
     },
     "execution_count": 24,
     "metadata": {},
     "output_type": "execute_result"
    },
    {
     "data": {
      "image/png": "[encoded data removed]",
      "text/plain": [
       "<Figure size 432x288 with 2 Axes>"
      ]
     },
     "metadata": {
      "needs_background": "light"
     },
     "output_type": "display_data"
    }
   ],
   "source": [
    "ConfusionMatrixDisplay.from_predictions(preds_index, y_test, display_labels=classes, xticks_rotation=\"vertical\")"
   ]
  },
  {
   "cell_type": "markdown",
   "id": "35672b30",
   "metadata": {
    "papermill": {
     "duration": 0.056189,
     "end_time": "2022-07-04T08:32:16.599406",
     "exception": false,
     "start_time": "2022-07-04T08:32:16.543217",
     "status": "completed"
    },
    "tags": []
   },
   "source": [
    "## So we see that performance of the model is just about 50%, which is poor."
   ]
  },
  {
   "cell_type": "markdown",
   "id": "c1dde81a",
   "metadata": {
    "papermill": {
     "duration": 0.0547,
     "end_time": "2022-07-04T08:32:16.709090",
     "exception": false,
     "start_time": "2022-07-04T08:32:16.654390",
     "status": "completed"
    },
    "tags": []
   },
   "source": [
    "## Now we will use CNN model"
   ]
  },
  {
   "cell_type": "code",
   "execution_count": 25,
   "id": "c3bcda90",
   "metadata": {
    "execution": {
     "iopub.execute_input": "2022-07-04T08:32:16.820692Z",
     "iopub.status.busy": "2022-07-04T08:32:16.820321Z",
     "iopub.status.idle": "2022-07-04T08:32:16.873098Z",
     "shell.execute_reply": "2022-07-04T08:32:16.872066Z"
    },
    "papermill": {
     "duration": 0.111477,
     "end_time": "2022-07-04T08:32:16.875371",
     "exception": false,
     "start_time": "2022-07-04T08:32:16.763894",
     "status": "completed"
    },
    "tags": []
   },
   "outputs": [],
   "source": [
    "model = models.Sequential([\n",
    "    layers.Conv2D(filters=32, kernel_size=(3,3), activation='relu', input_shape=(32,32,3)),\n",
    "    layers.MaxPool2D((2,2)),\n",
    "    layers.Conv2D(filters=64, kernel_size=(3,3), activation='relu'),\n",
    "    layers.MaxPool2D((2,2)),\n",
    "    layers.Flatten(),\n",
    "    layers.Dense(units=1000, activation='relu'),\n",
    "    layers.Dense(units=10, activation='softmax')\n",
    "])"
   ]
  },
  {
   "cell_type": "code",
   "execution_count": 26,
   "id": "898415f0",
   "metadata": {
    "execution": {
     "iopub.execute_input": "2022-07-04T08:32:16.986675Z",
     "iopub.status.busy": "2022-07-04T08:32:16.985984Z",
     "iopub.status.idle": "2022-07-04T08:32:16.992154Z",
     "shell.execute_reply": "2022-07-04T08:32:16.991128Z"
    },
    "papermill": {
     "duration": 0.065743,
     "end_time": "2022-07-04T08:32:16.996085",
     "exception": false,
     "start_time": "2022-07-04T08:32:16.930342",
     "status": "completed"
    },
    "tags": []
   },
   "outputs": [
    {
     "name": "stdout",
     "output_type": "stream",
     "text": [
      "Model: \"sequential_1\"\n",
      "_________________________________________________________________\n",
      "Layer (type)                 Output Shape              Param #   \n",
      "=================================================================\n",
      "conv2d (Conv2D)              (None, 30, 30, 32)        896       \n",
      "_________________________________________________________________\n",
      "max_pooling2d (MaxPooling2D) (None, 15, 15, 32)        0         \n",
      "_________________________________________________________________\n",
      "conv2d_1 (Conv2D)            (None, 13, 13, 64)        18496     \n",
      "_________________________________________________________________\n",
      "max_pooling2d_1 (MaxPooling2 (None, 6, 6, 64)          0         \n",
      "_________________________________________________________________\n",
      "flatten_1 (Flatten)          (None, 2304)              0         \n",
      "_________________________________________________________________\n",
      "dense_3 (Dense)              (None, 1000)              2305000   \n",
      "_________________________________________________________________\n",
      "dense_4 (Dense)              (None, 10)                10010     \n",
      "=================================================================\n",
      "Total params: 2,334,402\n",
      "Trainable params: 2,334,402\n",
      "Non-trainable params: 0\n",
      "_________________________________________________________________\n"
     ]
    }
   ],
   "source": [
    "model.summary()"
   ]
  },
  {
   "cell_type": "code",
   "execution_count": 27,
   "id": "2e604251",
   "metadata": {
    "execution": {
     "iopub.execute_input": "2022-07-04T08:32:17.105593Z",
     "iopub.status.busy": "2022-07-04T08:32:17.104675Z",
     "iopub.status.idle": "2022-07-04T08:32:17.114853Z",
     "shell.execute_reply": "2022-07-04T08:32:17.113865Z"
    },
    "papermill": {
     "duration": 0.067387,
     "end_time": "2022-07-04T08:32:17.117312",
     "exception": false,
     "start_time": "2022-07-04T08:32:17.049925",
     "status": "completed"
    },
    "tags": []
   },
   "outputs": [],
   "source": [
    "# Compile the model\n",
    "model.compile(optimizer='Adam', loss='sparse_categorical_crossentropy', metrics=['accuracy'])"
   ]
  },
  {
   "cell_type": "code",
   "execution_count": 28,
   "id": "e3f5f2a3",
   "metadata": {
    "execution": {
     "iopub.execute_input": "2022-07-04T08:32:17.232390Z",
     "iopub.status.busy": "2022-07-04T08:32:17.231873Z",
     "iopub.status.idle": "2022-07-04T08:33:40.743593Z",
     "shell.execute_reply": "2022-07-04T08:33:40.742171Z"
    },
    "papermill": {
     "duration": 83.573802,
     "end_time": "2022-07-04T08:33:40.746353",
     "exception": false,
     "start_time": "2022-07-04T08:32:17.172551",
     "status": "completed"
    },
    "tags": []
   },
   "outputs": [
    {
     "name": "stdout",
     "output_type": "stream",
     "text": [
      "Epoch 1/10\n"
     ]
    },
    {
     "name": "stderr",
     "output_type": "stream",
     "text": [
      "2022-07-04 08:32:19.809227: I tensorflow/stream_executor/cuda/cuda_dnn.cc:369] Loaded cuDNN version 8005\n"
     ]
    },
    {
     "name": "stdout",
     "output_type": "stream",
     "text": [
      "1250/1250 [==============================] - 11s 4ms/step - loss: 1.3748 - accuracy: 0.5061 - val_loss: 1.1282 - val_accuracy: 0.5999\n",
      "Epoch 2/10\n",
      "1250/1250 [==============================] - 4s 3ms/step - loss: 1.0027 - accuracy: 0.6493 - val_loss: 0.9975 - val_accuracy: 0.6519\n",
      "Epoch 3/10\n",
      "1250/1250 [==============================] - 4s 3ms/step - loss: 0.8016 - accuracy: 0.7207 - val_loss: 0.9214 - val_accuracy: 0.6794\n",
      "Epoch 4/10\n",
      "1250/1250 [==============================] - 4s 3ms/step - loss: 0.6259 - accuracy: 0.7818 - val_loss: 0.8894 - val_accuracy: 0.7049\n",
      "Epoch 5/10\n",
      "1250/1250 [==============================] - 4s 3ms/step - loss: 0.4525 - accuracy: 0.8442 - val_loss: 0.9387 - val_accuracy: 0.7119\n",
      "Epoch 6/10\n",
      "1250/1250 [==============================] - 4s 3ms/step - loss: 0.2928 - accuracy: 0.8993 - val_loss: 1.0839 - val_accuracy: 0.6998\n",
      "Epoch 7/10\n",
      "1250/1250 [==============================] - 5s 4ms/step - loss: 0.1849 - accuracy: 0.9373 - val_loss: 1.2738 - val_accuracy: 0.6978\n",
      "Epoch 8/10\n",
      "1250/1250 [==============================] - 4s 3ms/step - loss: 0.1206 - accuracy: 0.9615 - val_loss: 1.5040 - val_accuracy: 0.6959\n",
      "Epoch 9/10\n",
      "1250/1250 [==============================] - 4s 3ms/step - loss: 0.1033 - accuracy: 0.9647 - val_loss: 1.5893 - val_accuracy: 0.6933\n",
      "Epoch 10/10\n",
      "1250/1250 [==============================] - 4s 3ms/step - loss: 0.0854 - accuracy: 0.9719 - val_loss: 1.7321 - val_accuracy: 0.6954\n"
     ]
    }
   ],
   "source": [
    "# Train the model for 10 epochs\n",
    "history = model.fit(X_train, y_train, epochs=10, verbose=1, validation_split=0.2)"
   ]
  },
  {
   "cell_type": "code",
   "execution_count": 29,
   "id": "55b5f4b3",
   "metadata": {
    "execution": {
     "iopub.execute_input": "2022-07-04T08:33:40.941317Z",
     "iopub.status.busy": "2022-07-04T08:33:40.940598Z",
     "iopub.status.idle": "2022-07-04T08:33:41.120689Z",
     "shell.execute_reply": "2022-07-04T08:33:41.119781Z"
    },
    "papermill": {
     "duration": 0.278522,
     "end_time": "2022-07-04T08:33:41.122841",
     "exception": false,
     "start_time": "2022-07-04T08:33:40.844319",
     "status": "completed"
    },
    "tags": []
   },
   "outputs": [
    {
     "data": {
      "image/png": "[encoded data removed]",
      "text/plain": [
       "<Figure size 432x288 with 1 Axes>"
      ]
     },
     "metadata": {
      "needs_background": "light"
     },
     "output_type": "display_data"
    }
   ],
   "source": [
    "history_Dict = history.history\n",
    "x = np.arange(0, 10, 1)\n",
    "loss = history_Dict['loss']\n",
    "val_loss = history_Dict['val_loss']\n",
    "plt.plot(x, loss, 'go--')\n",
    "plt.plot(x, val_loss, 'b+--')\n",
    "plt.show()"
   ]
  },
  {
   "cell_type": "code",
   "execution_count": 30,
   "id": "4519fdfb",
   "metadata": {
    "execution": {
     "iopub.execute_input": "2022-07-04T08:33:41.321587Z",
     "iopub.status.busy": "2022-07-04T08:33:41.320626Z",
     "iopub.status.idle": "2022-07-04T08:33:43.023615Z",
     "shell.execute_reply": "2022-07-04T08:33:43.022585Z"
    },
    "papermill": {
     "duration": 1.802562,
     "end_time": "2022-07-04T08:33:43.026040",
     "exception": false,
     "start_time": "2022-07-04T08:33:41.223478",
     "status": "completed"
    },
    "tags": []
   },
   "outputs": [
    {
     "name": "stdout",
     "output_type": "stream",
     "text": [
      "313/313 [==============================] - 1s 3ms/step - loss: 1.7165 - accuracy: 0.6931\n"
     ]
    },
    {
     "data": {
      "text/plain": [
       "[1.7164692878723145, 0.6930999755859375]"
      ]
     },
     "execution_count": 30,
     "metadata": {},
     "output_type": "execute_result"
    }
   ],
   "source": [
    "# Test accuracy fot a small batch\n",
    "model.evaluate(X_test, y_test)"
   ]
  },
  {
   "cell_type": "code",
   "execution_count": 31,
   "id": "b077de85",
   "metadata": {
    "execution": {
     "iopub.execute_input": "2022-07-04T08:33:43.231823Z",
     "iopub.status.busy": "2022-07-04T08:33:43.231435Z",
     "iopub.status.idle": "2022-07-04T08:33:44.234693Z",
     "shell.execute_reply": "2022-07-04T08:33:44.233504Z"
    },
    "papermill": {
     "duration": 1.104974,
     "end_time": "2022-07-04T08:33:44.237314",
     "exception": false,
     "start_time": "2022-07-04T08:33:43.132340",
     "status": "completed"
    },
    "tags": []
   },
   "outputs": [],
   "source": [
    "# Compute the predictions\n",
    "preds = model.predict(X_test)"
   ]
  },
  {
   "cell_type": "code",
   "execution_count": 32,
   "id": "67fad489",
   "metadata": {
    "execution": {
     "iopub.execute_input": "2022-07-04T08:33:44.439671Z",
     "iopub.status.busy": "2022-07-04T08:33:44.439306Z",
     "iopub.status.idle": "2022-07-04T08:33:44.446084Z",
     "shell.execute_reply": "2022-07-04T08:33:44.445209Z"
    },
    "papermill": {
     "duration": 0.108051,
     "end_time": "2022-07-04T08:33:44.448108",
     "exception": false,
     "start_time": "2022-07-04T08:33:44.340057",
     "status": "completed"
    },
    "tags": []
   },
   "outputs": [
    {
     "data": {
      "text/plain": [
       "array([2.1980221e-04, 7.1648486e-02, 1.8481191e-04, 1.8521915e-01,\n",
       "       3.0543783e-04, 1.2801707e-01, 1.8494673e-03, 9.3054441e-06,\n",
       "       6.1254621e-01, 2.6788015e-07], dtype=float32)"
      ]
     },
     "execution_count": 32,
     "metadata": {},
     "output_type": "execute_result"
    }
   ],
   "source": [
    "preds[0]"
   ]
  },
  {
   "cell_type": "code",
   "execution_count": 33,
   "id": "15331fa8",
   "metadata": {
    "execution": {
     "iopub.execute_input": "2022-07-04T08:33:44.708834Z",
     "iopub.status.busy": "2022-07-04T08:33:44.708156Z",
     "iopub.status.idle": "2022-07-04T08:33:44.717870Z",
     "shell.execute_reply": "2022-07-04T08:33:44.716594Z"
    },
    "papermill": {
     "duration": 0.169928,
     "end_time": "2022-07-04T08:33:44.720355",
     "exception": false,
     "start_time": "2022-07-04T08:33:44.550427",
     "status": "completed"
    },
    "tags": []
   },
   "outputs": [
    {
     "name": "stdout",
     "output_type": "stream",
     "text": [
      "Accuracy score: 0.6931\n"
     ]
    }
   ],
   "source": [
    "preds_index = preds.argmax(axis=1)\n",
    "print(f\"Accuracy score: {accuracy_score(preds_index, y_test)}\")"
   ]
  },
  {
   "cell_type": "code",
   "execution_count": 34,
   "id": "1ed89a9c",
   "metadata": {
    "execution": {
     "iopub.execute_input": "2022-07-04T08:33:44.918312Z",
     "iopub.status.busy": "2022-07-04T08:33:44.917964Z",
     "iopub.status.idle": "2022-07-04T08:33:44.950438Z",
     "shell.execute_reply": "2022-07-04T08:33:44.949388Z"
    },
    "papermill": {
     "duration": 0.133494,
     "end_time": "2022-07-04T08:33:44.952671",
     "exception": false,
     "start_time": "2022-07-04T08:33:44.819177",
     "status": "completed"
    },
    "tags": []
   },
   "outputs": [
    {
     "name": "stdout",
     "output_type": "stream",
     "text": [
      "              precision    recall  f1-score   support\n",
      "\n",
      "           0       0.74      0.72      0.73      1036\n",
      "           1       0.78      0.87      0.82       903\n",
      "           2       0.54      0.64      0.59       842\n",
      "           3       0.57      0.45      0.50      1288\n",
      "           4       0.66      0.65      0.65      1014\n",
      "           5       0.58      0.58      0.58       999\n",
      "           6       0.76      0.80      0.78       950\n",
      "           7       0.77      0.74      0.75      1038\n",
      "           8       0.76      0.83      0.79       922\n",
      "           9       0.77      0.76      0.77      1008\n",
      "\n",
      "    accuracy                           0.69     10000\n",
      "   macro avg       0.69      0.70      0.70     10000\n",
      "weighted avg       0.69      0.69      0.69     10000\n",
      "\n"
     ]
    }
   ],
   "source": [
    "print(classification_report(preds_index, y_test))"
   ]
  },
  {
   "cell_type": "code",
   "execution_count": 35,
   "id": "17b56179",
   "metadata": {
    "execution": {
     "iopub.execute_input": "2022-07-04T08:33:45.153357Z",
     "iopub.status.busy": "2022-07-04T08:33:45.152635Z",
     "iopub.status.idle": "2022-07-04T08:33:45.719563Z",
     "shell.execute_reply": "2022-07-04T08:33:45.718584Z"
    },
    "papermill": {
     "duration": 0.667871,
     "end_time": "2022-07-04T08:33:45.721838",
     "exception": false,
     "start_time": "2022-07-04T08:33:45.053967",
     "status": "completed"
    },
    "tags": []
   },
   "outputs": [
    {
     "data": {
      "text/plain": [
       "<sklearn.metrics._plot.confusion_matrix.ConfusionMatrixDisplay at 0x7f98c55d3310>"
      ]
     },
     "execution_count": 35,
     "metadata": {},
     "output_type": "execute_result"
    },
    {
     "data": {
      "image/png": "[encoded data removed]",
      "text/plain": [
       "<Figure size 432x288 with 2 Axes>"
      ]
     },
     "metadata": {
      "needs_background": "light"
     },
     "output_type": "display_data"
    }
   ],
   "source": [
    "ConfusionMatrixDisplay.from_predictions(preds_index, y_test, \n",
    "                                    display_labels=classes, xticks_rotation=\"vertical\")"
   ]
  },
  {
   "cell_type": "markdown",
   "id": "458cab2f",
   "metadata": {
    "papermill": {
     "duration": 0.098078,
     "end_time": "2022-07-04T08:33:45.918790",
     "exception": false,
     "start_time": "2022-07-04T08:33:45.820712",
     "status": "completed"
    },
    "tags": []
   },
   "source": [
    "# Achieved 66% accuracy, better than the ANN model"
   ]
  },
  {
   "cell_type": "code",
   "execution_count": null,
   "id": "53e28776",
   "metadata": {
    "papermill": {
     "duration": 0.096644,
     "end_time": "2022-07-04T08:33:46.117781",
     "exception": false,
     "start_time": "2022-07-04T08:33:46.021137",
     "status": "completed"
    },
    "tags": []
   },
   "outputs": [],
   "source": []
  }
 ],
 "metadata": {
  "kernelspec": {
   "display_name": "Python 3 (ipykernel)",
   "language": "python",
   "name": "python3"
  },
  "language_info": {
   "codemirror_mode": {
    "name": "ipython",
    "version": 3
   },
   "file_extension": ".py",
   "mimetype": "text/x-python",
   "name": "python",
   "nbconvert_exporter": "python",
   "pygments_lexer": "ipython3",
   "version": "3.9.12"
  },
  "papermill": {
   "default_parameters": {},
   "duration": 163.66497,
   "end_time": "2022-07-04T08:33:49.288857",
   "environment_variables": {},
   "exception": null,
   "input_path": "__notebook__.ipynb",
   "output_path": "__notebook__.ipynb",
   "parameters": {},
   "start_time": "2022-07-04T08:31:05.623887",
   "version": "2.3.4"
  }
 },
 "nbformat": 4,
 "nbformat_minor": 5
}
