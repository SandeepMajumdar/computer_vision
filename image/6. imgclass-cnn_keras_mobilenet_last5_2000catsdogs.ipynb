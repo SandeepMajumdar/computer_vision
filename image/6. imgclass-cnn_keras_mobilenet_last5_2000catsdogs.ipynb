{
 "cells": [
  {
   "cell_type": "markdown",
   "metadata": {},
   "source": [
    "# Classification of cats and dogs images by fine tuning the pre trained lightweight Mobilenet CNN model for 2 classes instead of 1000 original classes, by cutting off last 5 layers and adding one last dense layer. Model trained on 1200 images, validated on 400 and accuracy achieved on 400 test images is 0.99.\n",
    "\n",
    "# Model was trained on Kaggle GPU using 1600 images and 30 epochs. It was immaterial after just 5 epochs due to pre trained model, accuracy was 100%."
   ]
  },
  {
   "cell_type": "code",
   "execution_count": 19,
   "metadata": {
    "execution": {
     "iopub.execute_input": "2022-06-15T06:06:52.483075Z",
     "iopub.status.busy": "2022-06-15T06:06:52.482700Z",
     "iopub.status.idle": "2022-06-15T06:06:52.493566Z",
     "shell.execute_reply": "2022-06-15T06:06:52.492522Z",
     "shell.execute_reply.started": "2022-06-15T06:06:52.483045Z"
    }
   },
   "outputs": [],
   "source": [
    "import tensorflow as tf\n",
    "from tensorflow import keras\n",
    "from tensorflow.keras.models import Sequential, load_model, model_from_json, Model\n",
    "from tensorflow.keras.layers import Dense, Conv2D, MaxPool2D, Flatten, BatchNormalization, Activation\n",
    "from tensorflow.keras.optimizers import Adam\n",
    "from tensorflow.keras.metrics import Accuracy, binary_crossentropy\n",
    "from sklearn.metrics import confusion_matrix, plot_confusion_matrix, ConfusionMatrixDisplay, accuracy_score\n",
    "from tensorflow.keras import regularizers\n",
    "from tensorflow.keras.metrics import categorical_crossentropy, sparse_categorical_crossentropy, binary_crossentropy\n",
    "from tensorflow.keras.preprocessing.image import ImageDataGenerator\n",
    "from tensorflow.keras.applications import imagenet_utils, mobilenet\n",
    "from tensorflow.keras.preprocessing import image\n",
    "import itertools\n",
    "import numpy as np\n",
    "import matplotlib.pyplot as plt\n",
    "%matplotlib inline\n",
    "from IPython.display import Image"
   ]
  },
  {
   "cell_type": "markdown",
   "metadata": {},
   "source": [
    "import os"
   ]
  },
  {
   "cell_type": "markdown",
   "metadata": {},
   "source": [
    "os.listdir('/home/sandeep/Development/Datasets/Nature/less_cats_and_dogs/valid/')"
   ]
  },
  {
   "cell_type": "code",
   "execution_count": null,
   "metadata": {},
   "outputs": [],
   "source": [
    "# Save the filepaths for the datasets\n",
    "# train_path = '/home/sandeep/Development/Datasets/Nature/less_cats_and_dogs/train/'\n",
    "# valid_path = '/home/sandeep/Development/Datasets/Nature/less_cats_and_dogs/valid/'\n",
    "# test_path = '/home/sandeep/Development/Datasets/Nature/less_cats_and_dogs/test/'"
   ]
  },
  {
   "cell_type": "code",
   "execution_count": 2,
   "metadata": {
    "execution": {
     "iopub.execute_input": "2022-06-15T05:49:36.409209Z",
     "iopub.status.busy": "2022-06-15T05:49:36.408453Z",
     "iopub.status.idle": "2022-06-15T05:49:36.415389Z",
     "shell.execute_reply": "2022-06-15T05:49:36.413858Z",
     "shell.execute_reply.started": "2022-06-15T05:49:36.409172Z"
    }
   },
   "outputs": [],
   "source": [
    "# these paths were used on kaggle after uploading the dataset\n",
    "train_path = '../input/2000-cats-dogs/more_cats_dogs/train'\n",
    "valid_path = '../input/2000-cats-dogs/more_cats_dogs/valid'\n",
    "test_path = '../input/2000-cats-dogs/more_cats_dogs/test'"
   ]
  },
  {
   "cell_type": "code",
   "execution_count": 11,
   "metadata": {
    "execution": {
     "iopub.execute_input": "2022-06-15T05:54:26.347370Z",
     "iopub.status.busy": "2022-06-15T05:54:26.347019Z",
     "iopub.status.idle": "2022-06-15T05:54:26.368686Z",
     "shell.execute_reply": "2022-06-15T05:54:26.367668Z",
     "shell.execute_reply.started": "2022-06-15T05:54:26.347343Z"
    }
   },
   "outputs": [],
   "source": [
    "%config Completer.use_jedi = False"
   ]
  },
  {
   "cell_type": "code",
   "execution_count": 3,
   "metadata": {
    "execution": {
     "iopub.execute_input": "2022-06-15T05:49:41.040068Z",
     "iopub.status.busy": "2022-06-15T05:49:41.039516Z",
     "iopub.status.idle": "2022-06-15T05:49:41.457690Z",
     "shell.execute_reply": "2022-06-15T05:49:41.456905Z",
     "shell.execute_reply.started": "2022-06-15T05:49:41.040033Z"
    }
   },
   "outputs": [],
   "source": [
    "# Load the data generators, also preprocess the inputs\n",
    "train_batches = ImageDataGenerator(preprocessing_function=mobilenet.preprocess_input\n",
    "                                  ).flow_from_directory(train_path, target_size=(224,224), \n",
    "                                classes=['cats', 'dogs'], batch_size=10)\n",
    "valid_batches = ImageDataGenerator(preprocessing_function=mobilenet.preprocess_input\n",
    "                                  ).flow_from_directory(valid_path, target_size=(224,224), \n",
    "                                classes=['cats', 'dogs'], batch_size=10)\n",
    "test_batches = ImageDataGenerator(preprocessing_function=mobilenet.preprocess_input\n",
    "                                 ).flow_from_directory(test_path, target_size=(224,224), \n",
    "                                classes=['cats', 'dogs'], batch_size=10, shuffle=False)"
   ]
  },
  {
   "cell_type": "code",
   "execution_count": 4,
   "metadata": {
    "execution": {
     "iopub.execute_input": "2022-06-15T05:49:46.979208Z",
     "iopub.status.busy": "2022-06-15T05:49:46.978858Z",
     "iopub.status.idle": "2022-06-15T05:49:51.049372Z",
     "shell.execute_reply": "2022-06-15T05:49:51.048612Z",
     "shell.execute_reply.started": "2022-06-15T05:49:46.979180Z"
    }
   },
   "outputs": [],
   "source": [
    "# Load the mobilenet model\n",
    "model = mobilenet.MobileNet()\n",
    "model.summary()"
   ]
  },
  {
   "cell_type": "code",
   "execution_count": 5,
   "metadata": {
    "execution": {
     "iopub.execute_input": "2022-06-15T05:49:51.056114Z",
     "iopub.status.busy": "2022-06-15T05:49:51.054061Z",
     "iopub.status.idle": "2022-06-15T05:49:51.294838Z",
     "shell.execute_reply": "2022-06-15T05:49:51.294003Z",
     "shell.execute_reply.started": "2022-06-15T05:49:51.056075Z"
    }
   },
   "outputs": [],
   "source": [
    "# Save the original mobilenet model for downloading and saving on disk later\n",
    "model.save('mobilenet_original.h5')"
   ]
  },
  {
   "cell_type": "code",
   "execution_count": 6,
   "metadata": {
    "execution": {
     "iopub.execute_input": "2022-06-15T05:50:10.507515Z",
     "iopub.status.busy": "2022-06-15T05:50:10.507160Z",
     "iopub.status.idle": "2022-06-15T05:50:10.528316Z",
     "shell.execute_reply": "2022-06-15T05:50:10.527629Z",
     "shell.execute_reply.started": "2022-06-15T05:50:10.507485Z"
    }
   },
   "outputs": [],
   "source": [
    "# Grab the output of the sixth last layer of the mobilenet original model, \n",
    "# and add a last dense layer with 2 classes. This will cut off the last 5 layers of \n",
    "# the original model\n",
    "x = model.layers[-6].output\n",
    "predictions = Dense(2, activation='softmax')(x)\n",
    "model2 = Model(inputs=model.input, outputs=predictions)"
   ]
  },
  {
   "cell_type": "code",
   "execution_count": 7,
   "metadata": {
    "execution": {
     "iopub.execute_input": "2022-06-15T05:50:15.531071Z",
     "iopub.status.busy": "2022-06-15T05:50:15.530711Z",
     "iopub.status.idle": "2022-06-15T05:50:15.546143Z",
     "shell.execute_reply": "2022-06-15T05:50:15.545132Z",
     "shell.execute_reply.started": "2022-06-15T05:50:15.531041Z"
    }
   },
   "outputs": [],
   "source": [
    "model2.summary()"
   ]
  },
  {
   "cell_type": "code",
   "execution_count": 8,
   "metadata": {
    "execution": {
     "iopub.execute_input": "2022-06-15T05:50:18.959658Z",
     "iopub.status.busy": "2022-06-15T05:50:18.959000Z",
     "iopub.status.idle": "2022-06-15T05:50:18.982195Z",
     "shell.execute_reply": "2022-06-15T05:50:18.981437Z",
     "shell.execute_reply.started": "2022-06-15T05:50:18.959615Z"
    }
   },
   "outputs": [],
   "source": [
    "# Now we will only train the last 5 layers of the model and freeze all other layer parameters\n",
    "for layer in model2.layers[:-5]:\n",
    "    layer.trainable = False\n",
    "model2.trainable_variables"
   ]
  },
  {
   "cell_type": "markdown",
   "metadata": {},
   "source": [
    "## So the new model is tuned and ready to be trained on cats and dogs"
   ]
  },
  {
   "cell_type": "code",
   "execution_count": 9,
   "metadata": {
    "execution": {
     "iopub.execute_input": "2022-06-15T05:50:27.492466Z",
     "iopub.status.busy": "2022-06-15T05:50:27.491632Z",
     "iopub.status.idle": "2022-06-15T05:50:27.508594Z",
     "shell.execute_reply": "2022-06-15T05:50:27.507531Z",
     "shell.execute_reply.started": "2022-06-15T05:50:27.492429Z"
    }
   },
   "outputs": [],
   "source": [
    "# Compile the new model\n",
    "model2.compile(optimizer=Adam(learning_rate=0.0001), loss='categorical_crossentropy', \n",
    "               metrics=['accuracy'])"
   ]
  },
  {
   "cell_type": "code",
   "execution_count": 10,
   "metadata": {
    "execution": {
     "iopub.execute_input": "2022-06-15T05:50:30.539073Z",
     "iopub.status.busy": "2022-06-15T05:50:30.538721Z",
     "iopub.status.idle": "2022-06-15T05:54:11.364455Z",
     "shell.execute_reply": "2022-06-15T05:54:11.363593Z",
     "shell.execute_reply.started": "2022-06-15T05:50:30.539043Z"
    }
   },
   "outputs": [],
   "source": [
    "# Train the new model\n",
    "model2.fit(train_batches, steps_per_epoch=120, validation_data=valid_batches, \n",
    "                    validation_steps=40, epochs=30, verbose=2)"
   ]
  },
  {
   "cell_type": "code",
   "execution_count": 12,
   "metadata": {
    "execution": {
     "iopub.execute_input": "2022-06-15T05:55:52.128326Z",
     "iopub.status.busy": "2022-06-15T05:55:52.127972Z",
     "iopub.status.idle": "2022-06-15T05:55:52.337447Z",
     "shell.execute_reply": "2022-06-15T05:55:52.336653Z",
     "shell.execute_reply.started": "2022-06-15T05:55:52.128298Z"
    }
   },
   "outputs": [],
   "source": [
    "# Save the new tuned and trained model\n",
    "model2.save('mobilenet_last5_2000catsdogs.h5')"
   ]
  },
  {
   "cell_type": "code",
   "execution_count": 13,
   "metadata": {
    "execution": {
     "iopub.execute_input": "2022-06-15T05:57:32.067992Z",
     "iopub.status.busy": "2022-06-15T05:57:32.067524Z",
     "iopub.status.idle": "2022-06-15T05:57:32.077859Z",
     "shell.execute_reply": "2022-06-15T05:57:32.076877Z",
     "shell.execute_reply.started": "2022-06-15T05:57:32.067955Z"
    }
   },
   "outputs": [],
   "source": [
    "# Get the labels of the test dataset\n",
    "test_labels = test_batches.classes\n",
    "test_labels"
   ]
  },
  {
   "cell_type": "code",
   "execution_count": 14,
   "metadata": {
    "execution": {
     "iopub.execute_input": "2022-06-15T05:59:20.667379Z",
     "iopub.status.busy": "2022-06-15T05:59:20.666782Z",
     "iopub.status.idle": "2022-06-15T05:59:20.676028Z",
     "shell.execute_reply": "2022-06-15T05:59:20.675137Z",
     "shell.execute_reply.started": "2022-06-15T05:59:20.667300Z"
    }
   },
   "outputs": [],
   "source": [
    "# Get the classes of the test dataset\n",
    "test_batches.class_indices"
   ]
  },
  {
   "cell_type": "code",
   "execution_count": 15,
   "metadata": {
    "execution": {
     "iopub.execute_input": "2022-06-15T06:03:09.757701Z",
     "iopub.status.busy": "2022-06-15T06:03:09.757073Z",
     "iopub.status.idle": "2022-06-15T06:03:15.326632Z",
     "shell.execute_reply": "2022-06-15T06:03:15.325808Z",
     "shell.execute_reply.started": "2022-06-15T06:03:09.757668Z"
    }
   },
   "outputs": [],
   "source": [
    "preds = model2.predict(test_batches, steps=40, verbose=1)"
   ]
  },
  {
   "cell_type": "code",
   "execution_count": 18,
   "metadata": {
    "execution": {
     "iopub.execute_input": "2022-06-15T06:05:54.071446Z",
     "iopub.status.busy": "2022-06-15T06:05:54.071096Z",
     "iopub.status.idle": "2022-06-15T06:05:54.263202Z",
     "shell.execute_reply": "2022-06-15T06:05:54.262439Z",
     "shell.execute_reply.started": "2022-06-15T06:05:54.071415Z"
    }
   },
   "outputs": [],
   "source": [
    "ConfusionMatrixDisplay.from_predictions(test_labels, preds.argmax(axis=1), labels=[0, 1], \n",
    "                                        display_labels=['Cat', 'Dog'])"
   ]
  },
  {
   "cell_type": "code",
   "execution_count": 20,
   "metadata": {
    "execution": {
     "iopub.execute_input": "2022-06-15T06:07:22.975153Z",
     "iopub.status.busy": "2022-06-15T06:07:22.974773Z",
     "iopub.status.idle": "2022-06-15T06:07:22.983098Z",
     "shell.execute_reply": "2022-06-15T06:07:22.982266Z",
     "shell.execute_reply.started": "2022-06-15T06:07:22.975123Z"
    }
   },
   "outputs": [],
   "source": [
    "accuracy_score(test_labels, preds.argmax(axis=1))"
   ]
  },
  {
   "cell_type": "markdown",
   "metadata": {},
   "source": [
    "# The model has performed rather miraculously with precision 199/202 for Cat and recall 199/200 for Cat, with accuracy 0.99."
   ]
  },
  {
   "cell_type": "code",
   "execution_count": null,
   "metadata": {},
   "outputs": [],
   "source": []
  }
 ],
 "metadata": {
  "kernelspec": {
   "display_name": "Python 3 (ipykernel)",
   "language": "python",
   "name": "python3"
  },
  "language_info": {
   "codemirror_mode": {
    "name": "ipython",
    "version": 3
   },
   "file_extension": ".py",
   "mimetype": "text/x-python",
   "name": "python",
   "nbconvert_exporter": "python",
   "pygments_lexer": "ipython3",
   "version": "3.9.12"
  }
 },
 "nbformat": 4,
 "nbformat_minor": 4
}
